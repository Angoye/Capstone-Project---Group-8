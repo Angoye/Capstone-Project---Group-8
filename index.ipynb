{
 "cells": [
  {
   "cell_type": "markdown",
   "metadata": {},
   "source": [
    "In today’s rapidly changing environment, climate change is no longer just an ecological concern—it is a critical business and economic challenge. Companies, policymakers, and investors need data-driven insights to assess climate risks, understand economic vulnerabilities, and develop strategies for sustainability and resilience.\n",
    "\n"
   ]
  },
  {
   "cell_type": "markdown",
   "metadata": {},
   "source": [
    "Assess Climate Vulnerability: Identify how climate-related events impact health, economic growth e.t.c\n",
    "\n",
    "Quantify Financial Risks: Measure economic losses due to climate-related disasters and forecast future risks.\n",
    "\n",
    "Develop Risk Mitigation Strategies: Provide actionable insights to improve climate resilience and sustainability.\n",
    "\n",
    "Enable Data-Driven Decision-Making: Utilize AI-powered models to predict the long-term effects of climate change."
   ]
  },
  {
   "cell_type": "markdown",
   "metadata": {},
   "source": [
    "Using the Climate Risk Index dataset, we provide comprehensive analysis on climate change’s impact on public health, economic stability, and global risk factors."
   ]
  },
  {
   "cell_type": "code",
   "execution_count": 3,
   "metadata": {},
   "outputs": [],
   "source": [
    "import pandas as pd\n",
    "import matplotlib.pyplot as plt\n",
    "import seaborn as sns"
   ]
  },
  {
   "cell_type": "code",
   "execution_count": 4,
   "metadata": {},
   "outputs": [],
   "source": [
    "# Load and read the CSV\n",
    "climate_risk_df = pd.read_csv(\"Data/Climate Change - datasets/Climate Risk Index.csv\")\n"
   ]
  },
  {
   "cell_type": "code",
   "execution_count": 5,
   "metadata": {},
   "outputs": [
    {
     "data": {
      "text/html": [
       "<div>\n",
       "<style scoped>\n",
       "    .dataframe tbody tr th:only-of-type {\n",
       "        vertical-align: middle;\n",
       "    }\n",
       "\n",
       "    .dataframe tbody tr th {\n",
       "        vertical-align: top;\n",
       "    }\n",
       "\n",
       "    .dataframe thead th {\n",
       "        text-align: right;\n",
       "    }\n",
       "</style>\n",
       "<table border=\"1\" class=\"dataframe\">\n",
       "  <thead>\n",
       "    <tr style=\"text-align: right;\">\n",
       "      <th></th>\n",
       "      <th>index</th>\n",
       "      <th>cartodb_id</th>\n",
       "      <th>the_geom</th>\n",
       "      <th>the_geom_webmercator</th>\n",
       "      <th>country</th>\n",
       "      <th>cri_rank</th>\n",
       "      <th>cri_score</th>\n",
       "      <th>fatalities_per_100k_rank</th>\n",
       "      <th>fatalities_per_100k_total</th>\n",
       "      <th>fatalities_rank</th>\n",
       "      <th>fatalities_total</th>\n",
       "      <th>losses_per_gdp__rank</th>\n",
       "      <th>losses_per_gdp__total</th>\n",
       "      <th>losses_usdm_ppp_rank</th>\n",
       "      <th>losses_usdm_ppp_total</th>\n",
       "      <th>rw_country_code</th>\n",
       "      <th>rw_country_name</th>\n",
       "    </tr>\n",
       "  </thead>\n",
       "  <tbody>\n",
       "    <tr>\n",
       "      <th>0</th>\n",
       "      <td>0</td>\n",
       "      <td>1</td>\n",
       "      <td>NaN</td>\n",
       "      <td>NaN</td>\n",
       "      <td>Saudi Arabia</td>\n",
       "      <td>79</td>\n",
       "      <td>72.50</td>\n",
       "      <td>18</td>\n",
       "      <td>0.45</td>\n",
       "      <td>18</td>\n",
       "      <td>140</td>\n",
       "      <td>131</td>\n",
       "      <td>0.0001</td>\n",
       "      <td>119</td>\n",
       "      <td>1.229</td>\n",
       "      <td>SAU</td>\n",
       "      <td>Saudi Arabia</td>\n",
       "    </tr>\n",
       "    <tr>\n",
       "      <th>1</th>\n",
       "      <td>1</td>\n",
       "      <td>2</td>\n",
       "      <td>NaN</td>\n",
       "      <td>NaN</td>\n",
       "      <td>Romania</td>\n",
       "      <td>61</td>\n",
       "      <td>61.50</td>\n",
       "      <td>112</td>\n",
       "      <td>0.01</td>\n",
       "      <td>102</td>\n",
       "      <td>1</td>\n",
       "      <td>16</td>\n",
       "      <td>0.6746</td>\n",
       "      <td>11</td>\n",
       "      <td>2797.884</td>\n",
       "      <td>ROU</td>\n",
       "      <td>Romania</td>\n",
       "    </tr>\n",
       "    <tr>\n",
       "      <th>2</th>\n",
       "      <td>2</td>\n",
       "      <td>3</td>\n",
       "      <td>NaN</td>\n",
       "      <td>NaN</td>\n",
       "      <td>Spain</td>\n",
       "      <td>69</td>\n",
       "      <td>66.33</td>\n",
       "      <td>74</td>\n",
       "      <td>0.05</td>\n",
       "      <td>47</td>\n",
       "      <td>22</td>\n",
       "      <td>86</td>\n",
       "      <td>0.0394</td>\n",
       "      <td>31</td>\n",
       "      <td>637.070</td>\n",
       "      <td>ESP</td>\n",
       "      <td>Spain</td>\n",
       "    </tr>\n",
       "    <tr>\n",
       "      <th>3</th>\n",
       "      <td>3</td>\n",
       "      <td>4</td>\n",
       "      <td>NaN</td>\n",
       "      <td>NaN</td>\n",
       "      <td>Slovenia</td>\n",
       "      <td>135</td>\n",
       "      <td>124.50</td>\n",
       "      <td>114</td>\n",
       "      <td>0.00</td>\n",
       "      <td>114</td>\n",
       "      <td>0</td>\n",
       "      <td>135</td>\n",
       "      <td>NaN</td>\n",
       "      <td>135</td>\n",
       "      <td>0.000</td>\n",
       "      <td>SVN</td>\n",
       "      <td>Slovenia</td>\n",
       "    </tr>\n",
       "    <tr>\n",
       "      <th>4</th>\n",
       "      <td>4</td>\n",
       "      <td>5</td>\n",
       "      <td>NaN</td>\n",
       "      <td>NaN</td>\n",
       "      <td>South Sudan</td>\n",
       "      <td>133</td>\n",
       "      <td>117.33</td>\n",
       "      <td>114</td>\n",
       "      <td>0.00</td>\n",
       "      <td>114</td>\n",
       "      <td>0</td>\n",
       "      <td>120</td>\n",
       "      <td>0.0021</td>\n",
       "      <td>122</td>\n",
       "      <td>0.508</td>\n",
       "      <td>SSD</td>\n",
       "      <td>South Sudan</td>\n",
       "    </tr>\n",
       "  </tbody>\n",
       "</table>\n",
       "</div>"
      ],
      "text/plain": [
       "   index  cartodb_id  the_geom  the_geom_webmercator       country  cri_rank  \\\n",
       "0      0           1       NaN                   NaN  Saudi Arabia        79   \n",
       "1      1           2       NaN                   NaN       Romania        61   \n",
       "2      2           3       NaN                   NaN         Spain        69   \n",
       "3      3           4       NaN                   NaN      Slovenia       135   \n",
       "4      4           5       NaN                   NaN   South Sudan       133   \n",
       "\n",
       "   cri_score  fatalities_per_100k_rank  fatalities_per_100k_total  \\\n",
       "0      72.50                        18                       0.45   \n",
       "1      61.50                       112                       0.01   \n",
       "2      66.33                        74                       0.05   \n",
       "3     124.50                       114                       0.00   \n",
       "4     117.33                       114                       0.00   \n",
       "\n",
       "   fatalities_rank  fatalities_total  losses_per_gdp__rank  \\\n",
       "0               18               140                   131   \n",
       "1              102                 1                    16   \n",
       "2               47                22                    86   \n",
       "3              114                 0                   135   \n",
       "4              114                 0                   120   \n",
       "\n",
       "   losses_per_gdp__total  losses_usdm_ppp_rank  losses_usdm_ppp_total  \\\n",
       "0                 0.0001                   119                  1.229   \n",
       "1                 0.6746                    11               2797.884   \n",
       "2                 0.0394                    31                637.070   \n",
       "3                    NaN                   135                  0.000   \n",
       "4                 0.0021                   122                  0.508   \n",
       "\n",
       "  rw_country_code rw_country_name  \n",
       "0             SAU    Saudi Arabia  \n",
       "1             ROU         Romania  \n",
       "2             ESP           Spain  \n",
       "3             SVN        Slovenia  \n",
       "4             SSD     South Sudan  "
      ]
     },
     "execution_count": 5,
     "metadata": {},
     "output_type": "execute_result"
    }
   ],
   "source": [
    "# Display the first few rows to understand its structure\n",
    "climate_risk_df.head()"
   ]
  },
  {
   "cell_type": "code",
   "execution_count": 6,
   "metadata": {},
   "outputs": [
    {
     "name": "stdout",
     "output_type": "stream",
     "text": [
      "<class 'pandas.core.frame.DataFrame'>\n",
      "RangeIndex: 182 entries, 0 to 181\n",
      "Data columns (total 17 columns):\n",
      " #   Column                     Non-Null Count  Dtype  \n",
      "---  ------                     --------------  -----  \n",
      " 0   index                      182 non-null    int64  \n",
      " 1   cartodb_id                 182 non-null    int64  \n",
      " 2   the_geom                   0 non-null      float64\n",
      " 3   the_geom_webmercator       0 non-null      float64\n",
      " 4   country                    182 non-null    object \n",
      " 5   cri_rank                   182 non-null    int64  \n",
      " 6   cri_score                  182 non-null    float64\n",
      " 7   fatalities_per_100k_rank   182 non-null    int64  \n",
      " 8   fatalities_per_100k_total  182 non-null    float64\n",
      " 9   fatalities_rank            182 non-null    int64  \n",
      " 10  fatalities_total           182 non-null    int64  \n",
      " 11  losses_per_gdp__rank       182 non-null    int64  \n",
      " 12  losses_per_gdp__total      131 non-null    float64\n",
      " 13  losses_usdm_ppp_rank       182 non-null    int64  \n",
      " 14  losses_usdm_ppp_total      182 non-null    float64\n",
      " 15  rw_country_code            179 non-null    object \n",
      " 16  rw_country_name            179 non-null    object \n",
      "dtypes: float64(6), int64(8), object(3)\n",
      "memory usage: 24.3+ KB\n"
     ]
    }
   ],
   "source": [
    "climate_risk_df.info()"
   ]
  },
  {
   "cell_type": "markdown",
   "metadata": {},
   "source": [
    "The dataset consists of 182 entries and 17 columns, with key information on climate risk, fatalities, and economic losses. Here’s a breakdown:\n",
    "\n",
    "Key Observations:\n",
    "\n",
    "1. Climate Risk Index (CRI)\n",
    "\n",
    "cri_rank: Ranking of countries based on climate risk (lower = more vulnerable).\n",
    "\n",
    "cri_score: Overall climate risk score (higher = more risk).\n",
    "\n",
    "2. Health Impact (Fatalities)\n",
    "\n",
    "fatalities_per_100k_total: Climate-related fatalities per 100,000 people.\n",
    "\n",
    "fatalities_total: Total fatalities from climate-related events.\n",
    "\n",
    "fatalities_rank: Ranking of countries by climate-related deaths.\n",
    "\n",
    "3. Economic Impact\n",
    "\n",
    "losses_per_gdp__total: Percentage of GDP lost due to climate disasters (131 non-null values, meaning some missing data).\n",
    "\n",
    "losses_usdm_ppp_total: Total financial losses in million USD (adjusted for purchasing power parity).\n",
    "\n",
    "losses_per_gdp__rank: Rank based on GDP losses.\n",
    "\n",
    "4. Country Information\n",
    "\n",
    "country: Name of the country.\n",
    "\n",
    "rw_country_code and rw_country_name: Country identifiers (some missing values).\n",
    "\n",
    "5. Missing Data\n",
    "\n",
    "the_geom and the_geom_webmercator are empty (not useful for analysis).\n",
    "\n",
    "losses_per_gdp__total has 51 missing values.\n"
   ]
  },
  {
   "cell_type": "code",
   "execution_count": 7,
   "metadata": {},
   "outputs": [],
   "source": [
    "# Drop columns that have no useful data (the_geom and the_geom_webmercator)\n",
    "climate_risk_df = climate_risk_df.drop(columns=['the_geom', 'the_geom_webmercator'])"
   ]
  },
  {
   "cell_type": "code",
   "execution_count": 8,
   "metadata": {},
   "outputs": [],
   "source": [
    "# Handle missing values\n",
    "# - Fill missing 'losses_per_gdp__total' with median (as it represents economic loss percentages)\n",
    "climate_risk_df['losses_per_gdp__total'].fillna(climate_risk_df['losses_per_gdp__total'].median(), inplace=True)\n",
    "\n",
    "# - Drop rows with missing country information\n",
    "climate_risk_df = climate_risk_df.dropna(subset=['rw_country_code', 'rw_country_name'])"
   ]
  },
  {
   "cell_type": "code",
   "execution_count": 9,
   "metadata": {},
   "outputs": [
    {
     "name": "stdout",
     "output_type": "stream",
     "text": [
      "<class 'pandas.core.frame.DataFrame'>\n",
      "Int64Index: 179 entries, 0 to 181\n",
      "Data columns (total 15 columns):\n",
      " #   Column                     Non-Null Count  Dtype  \n",
      "---  ------                     --------------  -----  \n",
      " 0   index                      179 non-null    int64  \n",
      " 1   cartodb_id                 179 non-null    int64  \n",
      " 2   country                    179 non-null    object \n",
      " 3   cri_rank                   179 non-null    int64  \n",
      " 4   cri_score                  179 non-null    float64\n",
      " 5   fatalities_per_100k_rank   179 non-null    int64  \n",
      " 6   fatalities_per_100k_total  179 non-null    float64\n",
      " 7   fatalities_rank            179 non-null    int64  \n",
      " 8   fatalities_total           179 non-null    int64  \n",
      " 9   losses_per_gdp__rank       179 non-null    int64  \n",
      " 10  losses_per_gdp__total      179 non-null    float64\n",
      " 11  losses_usdm_ppp_rank       179 non-null    int64  \n",
      " 12  losses_usdm_ppp_total      179 non-null    float64\n",
      " 13  rw_country_code            179 non-null    object \n",
      " 14  rw_country_name            179 non-null    object \n",
      "dtypes: float64(4), int64(8), object(3)\n",
      "memory usage: 22.4+ KB\n"
     ]
    }
   ],
   "source": [
    "climate_risk_df.info()"
   ]
  },
  {
   "cell_type": "code",
   "execution_count": 10,
   "metadata": {},
   "outputs": [
    {
     "data": {
      "text/html": [
       "<div>\n",
       "<style scoped>\n",
       "    .dataframe tbody tr th:only-of-type {\n",
       "        vertical-align: middle;\n",
       "    }\n",
       "\n",
       "    .dataframe tbody tr th {\n",
       "        vertical-align: top;\n",
       "    }\n",
       "\n",
       "    .dataframe thead th {\n",
       "        text-align: right;\n",
       "    }\n",
       "</style>\n",
       "<table border=\"1\" class=\"dataframe\">\n",
       "  <thead>\n",
       "    <tr style=\"text-align: right;\">\n",
       "      <th></th>\n",
       "      <th>count</th>\n",
       "      <th>mean</th>\n",
       "      <th>std</th>\n",
       "      <th>min</th>\n",
       "      <th>25%</th>\n",
       "      <th>50%</th>\n",
       "      <th>75%</th>\n",
       "      <th>max</th>\n",
       "    </tr>\n",
       "  </thead>\n",
       "  <tbody>\n",
       "    <tr>\n",
       "      <th>index</th>\n",
       "      <td>179.0</td>\n",
       "      <td>89.368715</td>\n",
       "      <td>52.350035</td>\n",
       "      <td>0.0000</td>\n",
       "      <td>44.5000</td>\n",
       "      <td>89.0000</td>\n",
       "      <td>133.5000</td>\n",
       "      <td>181.0000</td>\n",
       "    </tr>\n",
       "    <tr>\n",
       "      <th>cartodb_id</th>\n",
       "      <td>179.0</td>\n",
       "      <td>90.368715</td>\n",
       "      <td>52.350035</td>\n",
       "      <td>1.0000</td>\n",
       "      <td>45.5000</td>\n",
       "      <td>90.0000</td>\n",
       "      <td>134.5000</td>\n",
       "      <td>182.0000</td>\n",
       "    </tr>\n",
       "    <tr>\n",
       "      <th>cri_rank</th>\n",
       "      <td>179.0</td>\n",
       "      <td>85.005587</td>\n",
       "      <td>44.816793</td>\n",
       "      <td>1.0000</td>\n",
       "      <td>45.0000</td>\n",
       "      <td>91.0000</td>\n",
       "      <td>135.0000</td>\n",
       "      <td>135.0000</td>\n",
       "    </tr>\n",
       "    <tr>\n",
       "      <th>cri_score</th>\n",
       "      <td>179.0</td>\n",
       "      <td>81.611508</td>\n",
       "      <td>34.653027</td>\n",
       "      <td>12.1700</td>\n",
       "      <td>52.5000</td>\n",
       "      <td>77.5000</td>\n",
       "      <td>124.5000</td>\n",
       "      <td>124.5000</td>\n",
       "    </tr>\n",
       "    <tr>\n",
       "      <th>fatalities_per_100k_rank</th>\n",
       "      <td>179.0</td>\n",
       "      <td>78.234637</td>\n",
       "      <td>37.988625</td>\n",
       "      <td>1.0000</td>\n",
       "      <td>45.5000</td>\n",
       "      <td>91.0000</td>\n",
       "      <td>114.0000</td>\n",
       "      <td>114.0000</td>\n",
       "    </tr>\n",
       "    <tr>\n",
       "      <th>fatalities_per_100k_total</th>\n",
       "      <td>179.0</td>\n",
       "      <td>0.528101</td>\n",
       "      <td>3.421780</td>\n",
       "      <td>0.0000</td>\n",
       "      <td>0.0000</td>\n",
       "      <td>0.0200</td>\n",
       "      <td>0.1250</td>\n",
       "      <td>43.6600</td>\n",
       "    </tr>\n",
       "    <tr>\n",
       "      <th>fatalities_rank</th>\n",
       "      <td>179.0</td>\n",
       "      <td>77.290503</td>\n",
       "      <td>37.604902</td>\n",
       "      <td>1.0000</td>\n",
       "      <td>45.5000</td>\n",
       "      <td>90.0000</td>\n",
       "      <td>114.0000</td>\n",
       "      <td>114.0000</td>\n",
       "    </tr>\n",
       "    <tr>\n",
       "      <th>fatalities_total</th>\n",
       "      <td>179.0</td>\n",
       "      <td>88.234637</td>\n",
       "      <td>430.798750</td>\n",
       "      <td>0.0000</td>\n",
       "      <td>0.0000</td>\n",
       "      <td>2.0000</td>\n",
       "      <td>24.5000</td>\n",
       "      <td>4317.0000</td>\n",
       "    </tr>\n",
       "    <tr>\n",
       "      <th>losses_per_gdp__rank</th>\n",
       "      <td>179.0</td>\n",
       "      <td>85.229050</td>\n",
       "      <td>44.845904</td>\n",
       "      <td>1.0000</td>\n",
       "      <td>45.5000</td>\n",
       "      <td>92.0000</td>\n",
       "      <td>135.0000</td>\n",
       "      <td>135.0000</td>\n",
       "    </tr>\n",
       "    <tr>\n",
       "      <th>losses_per_gdp__total</th>\n",
       "      <td>179.0</td>\n",
       "      <td>1.133185</td>\n",
       "      <td>7.012131</td>\n",
       "      <td>0.0001</td>\n",
       "      <td>0.0391</td>\n",
       "      <td>0.0841</td>\n",
       "      <td>0.1704</td>\n",
       "      <td>77.3694</td>\n",
       "    </tr>\n",
       "    <tr>\n",
       "      <th>losses_usdm_ppp_rank</th>\n",
       "      <td>179.0</td>\n",
       "      <td>85.452514</td>\n",
       "      <td>44.607423</td>\n",
       "      <td>1.0000</td>\n",
       "      <td>46.5000</td>\n",
       "      <td>92.0000</td>\n",
       "      <td>135.0000</td>\n",
       "      <td>135.0000</td>\n",
       "    </tr>\n",
       "    <tr>\n",
       "      <th>losses_usdm_ppp_total</th>\n",
       "      <td>179.0</td>\n",
       "      <td>914.169246</td>\n",
       "      <td>4520.463304</td>\n",
       "      <td>0.0000</td>\n",
       "      <td>0.0000</td>\n",
       "      <td>28.5000</td>\n",
       "      <td>261.3035</td>\n",
       "      <td>40077.2220</td>\n",
       "    </tr>\n",
       "  </tbody>\n",
       "</table>\n",
       "</div>"
      ],
      "text/plain": [
       "                           count        mean          std      min      25%  \\\n",
       "index                      179.0   89.368715    52.350035   0.0000  44.5000   \n",
       "cartodb_id                 179.0   90.368715    52.350035   1.0000  45.5000   \n",
       "cri_rank                   179.0   85.005587    44.816793   1.0000  45.0000   \n",
       "cri_score                  179.0   81.611508    34.653027  12.1700  52.5000   \n",
       "fatalities_per_100k_rank   179.0   78.234637    37.988625   1.0000  45.5000   \n",
       "fatalities_per_100k_total  179.0    0.528101     3.421780   0.0000   0.0000   \n",
       "fatalities_rank            179.0   77.290503    37.604902   1.0000  45.5000   \n",
       "fatalities_total           179.0   88.234637   430.798750   0.0000   0.0000   \n",
       "losses_per_gdp__rank       179.0   85.229050    44.845904   1.0000  45.5000   \n",
       "losses_per_gdp__total      179.0    1.133185     7.012131   0.0001   0.0391   \n",
       "losses_usdm_ppp_rank       179.0   85.452514    44.607423   1.0000  46.5000   \n",
       "losses_usdm_ppp_total      179.0  914.169246  4520.463304   0.0000   0.0000   \n",
       "\n",
       "                               50%       75%         max  \n",
       "index                      89.0000  133.5000    181.0000  \n",
       "cartodb_id                 90.0000  134.5000    182.0000  \n",
       "cri_rank                   91.0000  135.0000    135.0000  \n",
       "cri_score                  77.5000  124.5000    124.5000  \n",
       "fatalities_per_100k_rank   91.0000  114.0000    114.0000  \n",
       "fatalities_per_100k_total   0.0200    0.1250     43.6600  \n",
       "fatalities_rank            90.0000  114.0000    114.0000  \n",
       "fatalities_total            2.0000   24.5000   4317.0000  \n",
       "losses_per_gdp__rank       92.0000  135.0000    135.0000  \n",
       "losses_per_gdp__total       0.0841    0.1704     77.3694  \n",
       "losses_usdm_ppp_rank       92.0000  135.0000    135.0000  \n",
       "losses_usdm_ppp_total      28.5000  261.3035  40077.2220  "
      ]
     },
     "execution_count": 10,
     "metadata": {},
     "output_type": "execute_result"
    }
   ],
   "source": [
    "# Summary statistics\n",
    "climate_risk_df.describe().T"
   ]
  },
  {
   "cell_type": "code",
   "execution_count": 11,
   "metadata": {},
   "outputs": [
    {
     "data": {
      "image/png": "[encoded data removed]",
      "text/plain": [
       "<Figure size 864x432 with 1 Axes>"
      ]
     },
     "metadata": {
      "needs_background": "light"
     },
     "output_type": "display_data"
    }
   ],
   "source": [
    "# Top 10 most climate-affected countries based on CRI rank\n",
    "top_10_climate_risk = climate_risk_df.nsmallest(10, 'cri_rank')\n",
    "\n",
    "# Visualization: Climate Risk Index Rankings\n",
    "plt.figure(figsize=(12, 6))\n",
    "sns.barplot(y=top_10_climate_risk['country'], x=top_10_climate_risk['cri_score'], palette='Reds_r')\n",
    "plt.xlabel(\"Climate Risk Score\")\n",
    "plt.ylabel(\"Country\")\n",
    "plt.title(\"Top 10 Most Climate-Vulnerable Countries (CRI Score)\")\n",
    "plt.show()"
   ]
  },
  {
   "cell_type": "code",
   "execution_count": 12,
   "metadata": {},
   "outputs": [
    {
     "data": {
      "image/png": "[encoded data removed]",
      "text/plain": [
       "<Figure size 864x432 with 1 Axes>"
      ]
     },
     "metadata": {
      "needs_background": "light"
     },
     "output_type": "display_data"
    }
   ],
   "source": [
    "# Visualization: Economic Losses (Top 10 countries with highest GDP losses)\n",
    "top_10_economic_losses = climate_risk_df.nlargest(10, 'losses_per_gdp__total')\n",
    "\n",
    "plt.figure(figsize=(12, 6))\n",
    "sns.barplot(y=top_10_economic_losses['country'], x=top_10_economic_losses['losses_per_gdp__total'], palette='Blues_r')\n",
    "plt.xlabel(\"Losses as % of GDP\")\n",
    "plt.ylabel(\"Country\")\n",
    "plt.title(\"Top 10 Countries with Highest Economic Losses Due to Climate Disasters\")\n",
    "plt.show()"
   ]
  },
  {
   "cell_type": "code",
   "execution_count": 13,
   "metadata": {},
   "outputs": [
    {
     "data": {
      "image/png": "[encoded data removed]",
      "text/plain": [
       "<Figure size 864x432 with 1 Axes>"
      ]
     },
     "metadata": {
      "needs_background": "light"
     },
     "output_type": "display_data"
    }
   ],
   "source": [
    "# Visualization: Health Impact (Top 10 countries with highest fatalities per 100k)\n",
    "top_10_health_impact = climate_risk_df.nlargest(10, 'fatalities_per_100k_total')\n",
    "\n",
    "plt.figure(figsize=(12, 6))\n",
    "sns.barplot(y=top_10_health_impact['country'], x=top_10_health_impact['fatalities_per_100k_total'], palette='Greens_r')\n",
    "plt.xlabel(\"Fatalities per 100k People\")\n",
    "plt.ylabel(\"Country\")\n",
    "plt.title(\"Top 10 Countries with Highest Health Impact from Climate Disasters\")\n",
    "plt.show()"
   ]
  },
  {
   "cell_type": "code",
   "execution_count": 14,
   "metadata": {},
   "outputs": [],
   "source": [
    "# Load and read the CSV\n",
    "climate_change_df = pd.read_csv(\"Data/Climate Change - datasets/climate_change_dataset.csv\")\n"
   ]
  },
  {
   "cell_type": "code",
   "execution_count": 15,
   "metadata": {},
   "outputs": [
    {
     "data": {
      "text/html": [
       "<div>\n",
       "<style scoped>\n",
       "    .dataframe tbody tr th:only-of-type {\n",
       "        vertical-align: middle;\n",
       "    }\n",
       "\n",
       "    .dataframe tbody tr th {\n",
       "        vertical-align: top;\n",
       "    }\n",
       "\n",
       "    .dataframe thead th {\n",
       "        text-align: right;\n",
       "    }\n",
       "</style>\n",
       "<table border=\"1\" class=\"dataframe\">\n",
       "  <thead>\n",
       "    <tr style=\"text-align: right;\">\n",
       "      <th></th>\n",
       "      <th>Year</th>\n",
       "      <th>Country</th>\n",
       "      <th>Avg Temperature (°C)</th>\n",
       "      <th>CO2 Emissions (Tons/Capita)</th>\n",
       "      <th>Sea Level Rise (mm)</th>\n",
       "      <th>Rainfall (mm)</th>\n",
       "      <th>Population</th>\n",
       "      <th>Renewable Energy (%)</th>\n",
       "      <th>Extreme Weather Events</th>\n",
       "      <th>Forest Area (%)</th>\n",
       "    </tr>\n",
       "  </thead>\n",
       "  <tbody>\n",
       "    <tr>\n",
       "      <th>0</th>\n",
       "      <td>2006</td>\n",
       "      <td>UK</td>\n",
       "      <td>8.9</td>\n",
       "      <td>9.3</td>\n",
       "      <td>3.1</td>\n",
       "      <td>1441</td>\n",
       "      <td>530911230</td>\n",
       "      <td>20.4</td>\n",
       "      <td>14</td>\n",
       "      <td>59.8</td>\n",
       "    </tr>\n",
       "    <tr>\n",
       "      <th>1</th>\n",
       "      <td>2019</td>\n",
       "      <td>USA</td>\n",
       "      <td>31.0</td>\n",
       "      <td>4.8</td>\n",
       "      <td>4.2</td>\n",
       "      <td>2407</td>\n",
       "      <td>107364344</td>\n",
       "      <td>49.2</td>\n",
       "      <td>8</td>\n",
       "      <td>31.0</td>\n",
       "    </tr>\n",
       "    <tr>\n",
       "      <th>2</th>\n",
       "      <td>2014</td>\n",
       "      <td>France</td>\n",
       "      <td>33.9</td>\n",
       "      <td>2.8</td>\n",
       "      <td>2.2</td>\n",
       "      <td>1241</td>\n",
       "      <td>441101758</td>\n",
       "      <td>33.3</td>\n",
       "      <td>9</td>\n",
       "      <td>35.5</td>\n",
       "    </tr>\n",
       "    <tr>\n",
       "      <th>3</th>\n",
       "      <td>2010</td>\n",
       "      <td>Argentina</td>\n",
       "      <td>5.9</td>\n",
       "      <td>1.8</td>\n",
       "      <td>3.2</td>\n",
       "      <td>1892</td>\n",
       "      <td>1069669579</td>\n",
       "      <td>23.7</td>\n",
       "      <td>7</td>\n",
       "      <td>17.7</td>\n",
       "    </tr>\n",
       "    <tr>\n",
       "      <th>4</th>\n",
       "      <td>2007</td>\n",
       "      <td>Germany</td>\n",
       "      <td>26.9</td>\n",
       "      <td>5.6</td>\n",
       "      <td>2.4</td>\n",
       "      <td>1743</td>\n",
       "      <td>124079175</td>\n",
       "      <td>12.5</td>\n",
       "      <td>4</td>\n",
       "      <td>17.4</td>\n",
       "    </tr>\n",
       "  </tbody>\n",
       "</table>\n",
       "</div>"
      ],
      "text/plain": [
       "   Year    Country  Avg Temperature (°C)  CO2 Emissions (Tons/Capita)  \\\n",
       "0  2006         UK                   8.9                          9.3   \n",
       "1  2019        USA                  31.0                          4.8   \n",
       "2  2014     France                  33.9                          2.8   \n",
       "3  2010  Argentina                   5.9                          1.8   \n",
       "4  2007    Germany                  26.9                          5.6   \n",
       "\n",
       "   Sea Level Rise (mm)  Rainfall (mm)  Population  Renewable Energy (%)  \\\n",
       "0                  3.1           1441   530911230                  20.4   \n",
       "1                  4.2           2407   107364344                  49.2   \n",
       "2                  2.2           1241   441101758                  33.3   \n",
       "3                  3.2           1892  1069669579                  23.7   \n",
       "4                  2.4           1743   124079175                  12.5   \n",
       "\n",
       "   Extreme Weather Events  Forest Area (%)  \n",
       "0                      14             59.8  \n",
       "1                       8             31.0  \n",
       "2                       9             35.5  \n",
       "3                       7             17.7  \n",
       "4                       4             17.4  "
      ]
     },
     "execution_count": 15,
     "metadata": {},
     "output_type": "execute_result"
    }
   ],
   "source": [
    "climate_change_df.head()"
   ]
  },
  {
   "cell_type": "code",
   "execution_count": 17,
   "metadata": {},
   "outputs": [
    {
     "name": "stdout",
     "output_type": "stream",
     "text": [
      "<class 'pandas.core.frame.DataFrame'>\n",
      "RangeIndex: 1000 entries, 0 to 999\n",
      "Data columns (total 10 columns):\n",
      " #   Column                       Non-Null Count  Dtype  \n",
      "---  ------                       --------------  -----  \n",
      " 0   Year                         1000 non-null   int64  \n",
      " 1   Country                      1000 non-null   object \n",
      " 2   Avg Temperature (°C)         1000 non-null   float64\n",
      " 3   CO2 Emissions (Tons/Capita)  1000 non-null   float64\n",
      " 4   Sea Level Rise (mm)          1000 non-null   float64\n",
      " 5   Rainfall (mm)                1000 non-null   int64  \n",
      " 6   Population                   1000 non-null   int64  \n",
      " 7   Renewable Energy (%)         1000 non-null   float64\n",
      " 8   Extreme Weather Events       1000 non-null   int64  \n",
      " 9   Forest Area (%)              1000 non-null   float64\n",
      "dtypes: float64(5), int64(4), object(1)\n",
      "memory usage: 78.2+ KB\n"
     ]
    }
   ],
   "source": [
    "climate_change_df.info()"
   ]
  },
  {
   "cell_type": "code",
   "execution_count": 18,
   "metadata": {},
   "outputs": [
    {
     "data": {
      "text/plain": [
       "(1000, 10)"
      ]
     },
     "execution_count": 18,
     "metadata": {},
     "output_type": "execute_result"
    }
   ],
   "source": [
    "climate_change_df.shape"
   ]
  },
  {
   "cell_type": "markdown",
   "metadata": {},
   "source": [
    "it contains global climate change indicators for multiple countries and years. Key columns include:\n",
    "\n",
    "General Information:\n",
    "\n",
    "Year – The year of the recorded data.\n",
    "\n",
    "Country – Name of the country.\n",
    "\n",
    "Climate Indicators:\n",
    "\n",
    "Avg Temperature (°C) – Average annual temperature.\n",
    "\n",
    "CO2 Emissions (Tons/Capita) – Per capita CO₂ emissions.\n",
    "\n",
    "Sea Level Rise (mm) – Increase in sea levels.\n",
    "\n",
    "Rainfall (mm) – Total annual rainfall.\n",
    "\n",
    "Extreme Weather Events – Count of major climate-related disasters.\n",
    "\n",
    "Economic and Environmental Factors:\n",
    "\n",
    "Population – Total population.\n",
    "\n",
    "Renewable Energy (%) – Share of energy from renewable sources.\n",
    "\n",
    "Forest Area (%) – Percentage of land covered by forests."
   ]
  },
  {
   "cell_type": "code",
   "execution_count": 19,
   "metadata": {},
   "outputs": [],
   "source": [
    "# Capitalize the first letter of all column names in the dataset\n",
    "climate_change_df.columns = [col.capitalize() for col in climate_change_df.columns]\n",
    "climate_risk_df.columns = [col.capitalize() for col in climate_risk_df.columns]"
   ]
  },
  {
   "cell_type": "code",
   "execution_count": 20,
   "metadata": {},
   "outputs": [
    {
     "data": {
      "text/plain": [
       "Index(['Year', 'Country', 'Avg temperature (°c)',\n",
       "       'Co2 emissions (tons/capita)', 'Sea level rise (mm)', 'Rainfall (mm)',\n",
       "       'Population', 'Renewable energy (%)', 'Extreme weather events',\n",
       "       'Forest area (%)'],\n",
       "      dtype='object')"
      ]
     },
     "execution_count": 20,
     "metadata": {},
     "output_type": "execute_result"
    }
   ],
   "source": [
    "climate_change_df.columns"
   ]
  },
  {
   "cell_type": "code",
   "execution_count": 21,
   "metadata": {},
   "outputs": [
    {
     "data": {
      "text/plain": [
       "Index(['Index', 'Cartodb_id', 'Country', 'Cri_rank', 'Cri_score',\n",
       "       'Fatalities_per_100k_rank', 'Fatalities_per_100k_total',\n",
       "       'Fatalities_rank', 'Fatalities_total', 'Losses_per_gdp__rank',\n",
       "       'Losses_per_gdp__total', 'Losses_usdm_ppp_rank',\n",
       "       'Losses_usdm_ppp_total', 'Rw_country_code', 'Rw_country_name'],\n",
       "      dtype='object')"
      ]
     },
     "execution_count": 21,
     "metadata": {},
     "output_type": "execute_result"
    }
   ],
   "source": [
    "climate_risk_df.columns"
   ]
  },
  {
   "cell_type": "code",
   "execution_count": 22,
   "metadata": {},
   "outputs": [],
   "source": [
    "# Merge datasets based on 'Country' column\n",
    "merged_df = pd.merge(climate_change_df, climate_risk_df, on=\"Country\", how=\"inner\")\n",
    "\n"
   ]
  },
  {
   "cell_type": "code",
   "execution_count": 24,
   "metadata": {},
   "outputs": [
    {
     "name": "stdout",
     "output_type": "stream",
     "text": [
      "<class 'pandas.core.frame.DataFrame'>\n",
      "Int64Index: 862 entries, 0 to 861\n",
      "Data columns (total 24 columns):\n",
      " #   Column                       Non-Null Count  Dtype  \n",
      "---  ------                       --------------  -----  \n",
      " 0   Year                         862 non-null    int64  \n",
      " 1   Country                      862 non-null    object \n",
      " 2   Avg temperature (°c)         862 non-null    float64\n",
      " 3   Co2 emissions (tons/capita)  862 non-null    float64\n",
      " 4   Sea level rise (mm)          862 non-null    float64\n",
      " 5   Rainfall (mm)                862 non-null    int64  \n",
      " 6   Population                   862 non-null    int64  \n",
      " 7   Renewable energy (%)         862 non-null    float64\n",
      " 8   Extreme weather events       862 non-null    int64  \n",
      " 9   Forest area (%)              862 non-null    float64\n",
      " 10  Index                        862 non-null    int64  \n",
      " 11  Cartodb_id                   862 non-null    int64  \n",
      " 12  Cri_rank                     862 non-null    int64  \n",
      " 13  Cri_score                    862 non-null    float64\n",
      " 14  Fatalities_per_100k_rank     862 non-null    int64  \n",
      " 15  Fatalities_per_100k_total    862 non-null    float64\n",
      " 16  Fatalities_rank              862 non-null    int64  \n",
      " 17  Fatalities_total             862 non-null    int64  \n",
      " 18  Losses_per_gdp__rank         862 non-null    int64  \n",
      " 19  Losses_per_gdp__total        862 non-null    float64\n",
      " 20  Losses_usdm_ppp_rank         862 non-null    int64  \n",
      " 21  Losses_usdm_ppp_total        862 non-null    float64\n",
      " 22  Rw_country_code              862 non-null    object \n",
      " 23  Rw_country_name              862 non-null    object \n",
      "dtypes: float64(9), int64(12), object(3)\n",
      "memory usage: 168.4+ KB\n"
     ]
    }
   ],
   "source": [
    "merged_df.info()"
   ]
  },
  {
   "cell_type": "code",
   "execution_count": 25,
   "metadata": {},
   "outputs": [
    {
     "data": {
      "text/plain": [
       "Year                           0\n",
       "Country                        0\n",
       "Avg temperature (°c)           0\n",
       "Co2 emissions (tons/capita)    0\n",
       "Sea level rise (mm)            0\n",
       "Rainfall (mm)                  0\n",
       "Population                     0\n",
       "Renewable energy (%)           0\n",
       "Extreme weather events         0\n",
       "Forest area (%)                0\n",
       "Index                          0\n",
       "Cartodb_id                     0\n",
       "Cri_rank                       0\n",
       "Cri_score                      0\n",
       "Fatalities_per_100k_rank       0\n",
       "Fatalities_per_100k_total      0\n",
       "Fatalities_rank                0\n",
       "Fatalities_total               0\n",
       "Losses_per_gdp__rank           0\n",
       "Losses_per_gdp__total          0\n",
       "Losses_usdm_ppp_rank           0\n",
       "Losses_usdm_ppp_total          0\n",
       "Rw_country_code                0\n",
       "Rw_country_name                0\n",
       "dtype: int64"
      ]
     },
     "execution_count": 25,
     "metadata": {},
     "output_type": "execute_result"
    }
   ],
   "source": [
    "merged_df.isnull().sum()"
   ]
  },
  {
   "cell_type": "code",
   "execution_count": 27,
   "metadata": {},
   "outputs": [
    {
     "data": {
      "text/plain": [
       "0"
      ]
     },
     "execution_count": 27,
     "metadata": {},
     "output_type": "execute_result"
    }
   ],
   "source": [
    "merged_df.duplicated().sum()"
   ]
  },
  {
   "cell_type": "code",
   "execution_count": null,
   "metadata": {},
   "outputs": [],
   "source": []
  }
 ],
 "metadata": {
  "kernelspec": {
   "display_name": "Python (learn-env)",
   "language": "python",
   "name": "learn-env"
  },
  "language_info": {
   "codemirror_mode": {
    "name": "ipython",
    "version": 3
   },
   "file_extension": ".py",
   "mimetype": "text/x-python",
   "name": "python",
   "nbconvert_exporter": "python",
   "pygments_lexer": "ipython3",
   "version": "3.8.5"
  }
 },
 "nbformat": 4,
 "nbformat_minor": 2
}
