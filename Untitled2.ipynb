{
  "cells": [
    {
      "cell_type": "code",
      "execution_count": null,
      "metadata": {
        "id": "UCmiLhHfRH2s"
      },
      "outputs": [],
      "source": [
        "# Import necessary libraries\n",
        "import pandas as pd\n",
        "import numpy as np\n",
        "import matplotlib.pyplot as plt\n",
        "import seaborn as sns\n",
        "from sklearn.pipeline import Pipeline\n",
        "from sklearn.compose import ColumnTransformer\n",
        "from sklearn.preprocessing import StandardScaler, OneHotEncoder\n",
        "from sklearn.impute import SimpleImputer\n",
        "from sklearn.model_selection import train_test_split, GridSearchCV\n",
        "from sklearn.ensemble import RandomForestRegressor, GradientBoostingRegressor\n",
        "from sklearn.linear_model import LinearRegression\n",
        "from xgboost import XGBRegressor\n",
        "from sklearn.metrics import mean_absolute_error, mean_squared_error, r2_score"
      ]
    },
    {
      "cell_type": "markdown",
      "metadata": {
        "id": "Wwl7BmF0R-tV"
      },
      "source": [
        "## **Functions**"
      ]
    },
    {
      "cell_type": "code",
      "execution_count": null,
      "metadata": {
        "id": "5yqh-EDRRMET"
      },
      "outputs": [],
      "source": [
        "# Function to load data\n",
        "def load_data(file_path):\n",
        "    \"\"\"Loads a CSV file into a DataFrame.\"\"\"\n",
        "    return pd.read_csv(file_path)"
      ]
    },
    {
      "cell_type": "code",
      "execution_count": null,
      "metadata": {
        "id": "kg57g9vLRQFD"
      },
      "outputs": [],
      "source": [
        "# Function to summarize data\n",
        "def summarize_data(df):\n",
        "    \"\"\"Prints dataset shape, info, and summary statistics.\"\"\"\n",
        "    print(\"Shape:\", df.shape)\n",
        "    print(\"\\nInfo:\")\n",
        "    print(df.info())\n",
        "    print(\"\\nSummary Statistics:\")\n",
        "    print(df.describe())"
      ]
    },
    {
      "cell_type": "code",
      "execution_count": null,
      "metadata": {
        "id": "0AQgpYS6RTJn"
      },
      "outputs": [],
      "source": [
        "# Function to check missing values\n",
        "def check_missing_values(df):\n",
        "    \"\"\"Returns missing value counts and percentages.\"\"\"\n",
        "    missing_values = df.isnull().sum()\n",
        "    missing_percent = (missing_values / len(df)) * 100\n",
        "    missing_df = pd.DataFrame({\"Missing Values\": missing_values, \"Percent\": missing_percent})\n",
        "    return missing_df.sort_values(by=\"Missing Values\", ascending=False)"
      ]
    },
    {
      "cell_type": "code",
      "execution_count": null,
      "metadata": {
        "id": "hNgKYA1iRbzh"
      },
      "outputs": [],
      "source": [
        "# Function to build a preprocessing pipeline\n",
        "def build_pipeline(numeric_features, categorical_features):\n",
        "    \"\"\"\n",
        "    Creates a preprocessing pipeline:\n",
        "    - Imputation\n",
        "    - Encoding categorical features\n",
        "    - Scaling numerical features\n",
        "    \"\"\"\n",
        "    # Numerical transformer\n",
        "    numeric_transformer = Pipeline([\n",
        "        ('imputer', SimpleImputer(strategy='median')),\n",
        "        ('scaler', StandardScaler())\n",
        "    ])\n",
        "\n",
        "    # Categorical transformer\n",
        "    categorical_transformer = Pipeline([\n",
        "        ('imputer', SimpleImputer(strategy='most_frequent')),\n",
        "        ('onehot', OneHotEncoder(handle_unknown='ignore'))\n",
        "    ])\n",
        "\n",
        "    # Combine transformations using ColumnTransformer\n",
        "    preprocessor = ColumnTransformer([\n",
        "        ('num', numeric_transformer, numeric_features),\n",
        "        ('cat', categorical_transformer, categorical_features)\n",
        "    ])\n",
        "\n",
        "    return preprocessor"
      ]
    },
    {
      "cell_type": "code",
      "execution_count": null,
      "metadata": {
        "id": "XABKjboBRqTQ"
      },
      "outputs": [],
      "source": [
        "# Function to train a model using the pipeline\n",
        "def train_model(df, target_column, model_type=\"random_forest\", param_grid=None):\n",
        "    \"\"\"\n",
        "    Trains a machine learning model with preprocessing pipeline.\n",
        "    \"\"\"\n",
        "    # Identify numeric and categorical features\n",
        "    numeric_features = df.select_dtypes(include=['int64', 'float64']).columns.drop(target_column)\n",
        "    categorical_features = df.select_dtypes(include=['object']).columns\n",
        "\n",
        "    # Build the preprocessing pipeline\n",
        "    preprocessor = build_pipeline(numeric_features, categorical_features)\n",
        "\n",
        "    # Define model choices\n",
        "    models = {\n",
        "        \"random_forest\": RandomForestRegressor(random_state=42),\n",
        "        \"gradient_boosting\": GradientBoostingRegressor(random_state=42),\n",
        "        \"xgboost\": XGBRegressor(random_state=42),\n",
        "        \"linear_regression\": LinearRegression(),\n",
        "    }\n",
        "\n",
        "    model = models.get(model_type)\n",
        "    if not model:\n",
        "        raise ValueError(\"Unsupported model type\")\n",
        "\n",
        "    # Create a full pipeline with preprocessing and model\n",
        "    full_pipeline = Pipeline([\n",
        "        ('preprocessor', preprocessor),\n",
        "        ('model', model)\n",
        "    ])\n",
        "\n",
        "    # Split dataset\n",
        "    X = df.drop(columns=[target_column])\n",
        "    y = df[target_column]\n",
        "    X_train, X_test, y_train, y_test = train_test_split(X, y, test_size=0.2, random_state=42)\n",
        "\n",
        "    # Hyperparameter tuning (if needed)\n",
        "    if param_grid:\n",
        "        grid_search = GridSearchCV(full_pipeline, param_grid, cv=5, scoring=\"r2\", n_jobs=-1)\n",
        "        grid_search.fit(X_train, y_train)\n",
        "        model = grid_search.best_estimator_\n",
        "    else:\n",
        "        full_pipeline.fit(X_train, y_train)\n",
        "\n",
        "    # Predict on test set\n",
        "    y_pred = full_pipeline.predict(X_test)\n",
        "\n",
        "    # Model evaluation\n",
        "    metrics = {\n",
        "        \"MAE\": mean_absolute_error(y_test, y_pred),\n",
        "        \"MSE\": mean_squared_error(y_test, y_pred),\n",
        "        \"R2 Score\": r2_score(y_test, y_pred)\n",
        "    }\n",
        "\n",
        "    return full_pipeline, metrics"
      ]
    },
    {
      "cell_type": "code",
      "execution_count": null,
      "metadata": {
        "colab": {
          "background_save": true
        },
        "id": "-a9xi9MXRxN2",
        "outputId": "0a06cbf8-266f-4f8d-d014-343872b16907"
      },
      "outputs": [
        {
          "ename": "FileNotFoundError",
          "evalue": "[Errno 2] No such file or directory: 'your_dataset.csv'",
          "output_type": "error",
          "traceback": [
            "\u001b[0;31m---------------------------------------------------------------------------\u001b[0m",
            "\u001b[0;31mFileNotFoundError\u001b[0m                         Traceback (most recent call last)",
            "\u001b[0;32m<ipython-input-37-3726699345db>\u001b[0m in \u001b[0;36m<cell line: 0>\u001b[0;34m()\u001b[0m\n\u001b[1;32m      3\u001b[0m \u001b[0;34m\u001b[0m\u001b[0m\n\u001b[1;32m      4\u001b[0m \u001b[0;31m# Load dataset\u001b[0m\u001b[0;34m\u001b[0m\u001b[0;34m\u001b[0m\u001b[0m\n\u001b[0;32m----> 5\u001b[0;31m \u001b[0mdf\u001b[0m \u001b[0;34m=\u001b[0m \u001b[0mload_data\u001b[0m\u001b[0;34m(\u001b[0m\u001b[0mfile_path\u001b[0m\u001b[0;34m)\u001b[0m\u001b[0;34m\u001b[0m\u001b[0;34m\u001b[0m\u001b[0m\n\u001b[0m\u001b[1;32m      6\u001b[0m \u001b[0;34m\u001b[0m\u001b[0m\n\u001b[1;32m      7\u001b[0m \u001b[0;31m# Summarize data\u001b[0m\u001b[0;34m\u001b[0m\u001b[0;34m\u001b[0m\u001b[0m\n",
            "\u001b[0;32m<ipython-input-28-aaf4423f43f4>\u001b[0m in \u001b[0;36mload_data\u001b[0;34m(file_path)\u001b[0m\n\u001b[1;32m      2\u001b[0m \u001b[0;32mdef\u001b[0m \u001b[0mload_data\u001b[0m\u001b[0;34m(\u001b[0m\u001b[0mfile_path\u001b[0m\u001b[0;34m)\u001b[0m\u001b[0;34m:\u001b[0m\u001b[0;34m\u001b[0m\u001b[0;34m\u001b[0m\u001b[0m\n\u001b[1;32m      3\u001b[0m     \u001b[0;34m\"\"\"Loads a CSV file into a DataFrame.\"\"\"\u001b[0m\u001b[0;34m\u001b[0m\u001b[0;34m\u001b[0m\u001b[0m\n\u001b[0;32m----> 4\u001b[0;31m     \u001b[0;32mreturn\u001b[0m \u001b[0mpd\u001b[0m\u001b[0;34m.\u001b[0m\u001b[0mread_csv\u001b[0m\u001b[0;34m(\u001b[0m\u001b[0mfile_path\u001b[0m\u001b[0;34m)\u001b[0m\u001b[0;34m\u001b[0m\u001b[0;34m\u001b[0m\u001b[0m\n\u001b[0m",
            "\u001b[0;32m/usr/local/lib/python3.11/dist-packages/pandas/io/parsers/readers.py\u001b[0m in \u001b[0;36mread_csv\u001b[0;34m(filepath_or_buffer, sep, delimiter, header, names, index_col, usecols, dtype, engine, converters, true_values, false_values, skipinitialspace, skiprows, skipfooter, nrows, na_values, keep_default_na, na_filter, verbose, skip_blank_lines, parse_dates, infer_datetime_format, keep_date_col, date_parser, date_format, dayfirst, cache_dates, iterator, chunksize, compression, thousands, decimal, lineterminator, quotechar, quoting, doublequote, escapechar, comment, encoding, encoding_errors, dialect, on_bad_lines, delim_whitespace, low_memory, memory_map, float_precision, storage_options, dtype_backend)\u001b[0m\n\u001b[1;32m   1024\u001b[0m     \u001b[0mkwds\u001b[0m\u001b[0;34m.\u001b[0m\u001b[0mupdate\u001b[0m\u001b[0;34m(\u001b[0m\u001b[0mkwds_defaults\u001b[0m\u001b[0;34m)\u001b[0m\u001b[0;34m\u001b[0m\u001b[0;34m\u001b[0m\u001b[0m\n\u001b[1;32m   1025\u001b[0m \u001b[0;34m\u001b[0m\u001b[0m\n\u001b[0;32m-> 1026\u001b[0;31m     \u001b[0;32mreturn\u001b[0m \u001b[0m_read\u001b[0m\u001b[0;34m(\u001b[0m\u001b[0mfilepath_or_buffer\u001b[0m\u001b[0;34m,\u001b[0m \u001b[0mkwds\u001b[0m\u001b[0;34m)\u001b[0m\u001b[0;34m\u001b[0m\u001b[0;34m\u001b[0m\u001b[0m\n\u001b[0m\u001b[1;32m   1027\u001b[0m \u001b[0;34m\u001b[0m\u001b[0m\n\u001b[1;32m   1028\u001b[0m \u001b[0;34m\u001b[0m\u001b[0m\n",
            "\u001b[0;32m/usr/local/lib/python3.11/dist-packages/pandas/io/parsers/readers.py\u001b[0m in \u001b[0;36m_read\u001b[0;34m(filepath_or_buffer, kwds)\u001b[0m\n\u001b[1;32m    618\u001b[0m \u001b[0;34m\u001b[0m\u001b[0m\n\u001b[1;32m    619\u001b[0m     \u001b[0;31m# Create the parser.\u001b[0m\u001b[0;34m\u001b[0m\u001b[0;34m\u001b[0m\u001b[0m\n\u001b[0;32m--> 620\u001b[0;31m     \u001b[0mparser\u001b[0m \u001b[0;34m=\u001b[0m \u001b[0mTextFileReader\u001b[0m\u001b[0;34m(\u001b[0m\u001b[0mfilepath_or_buffer\u001b[0m\u001b[0;34m,\u001b[0m \u001b[0;34m**\u001b[0m\u001b[0mkwds\u001b[0m\u001b[0;34m)\u001b[0m\u001b[0;34m\u001b[0m\u001b[0;34m\u001b[0m\u001b[0m\n\u001b[0m\u001b[1;32m    621\u001b[0m \u001b[0;34m\u001b[0m\u001b[0m\n\u001b[1;32m    622\u001b[0m     \u001b[0;32mif\u001b[0m \u001b[0mchunksize\u001b[0m \u001b[0;32mor\u001b[0m \u001b[0miterator\u001b[0m\u001b[0;34m:\u001b[0m\u001b[0;34m\u001b[0m\u001b[0;34m\u001b[0m\u001b[0m\n",
            "\u001b[0;32m/usr/local/lib/python3.11/dist-packages/pandas/io/parsers/readers.py\u001b[0m in \u001b[0;36m__init__\u001b[0;34m(self, f, engine, **kwds)\u001b[0m\n\u001b[1;32m   1618\u001b[0m \u001b[0;34m\u001b[0m\u001b[0m\n\u001b[1;32m   1619\u001b[0m         \u001b[0mself\u001b[0m\u001b[0;34m.\u001b[0m\u001b[0mhandles\u001b[0m\u001b[0;34m:\u001b[0m \u001b[0mIOHandles\u001b[0m \u001b[0;34m|\u001b[0m \u001b[0;32mNone\u001b[0m \u001b[0;34m=\u001b[0m \u001b[0;32mNone\u001b[0m\u001b[0;34m\u001b[0m\u001b[0;34m\u001b[0m\u001b[0m\n\u001b[0;32m-> 1620\u001b[0;31m         \u001b[0mself\u001b[0m\u001b[0;34m.\u001b[0m\u001b[0m_engine\u001b[0m \u001b[0;34m=\u001b[0m \u001b[0mself\u001b[0m\u001b[0;34m.\u001b[0m\u001b[0m_make_engine\u001b[0m\u001b[0;34m(\u001b[0m\u001b[0mf\u001b[0m\u001b[0;34m,\u001b[0m \u001b[0mself\u001b[0m\u001b[0;34m.\u001b[0m\u001b[0mengine\u001b[0m\u001b[0;34m)\u001b[0m\u001b[0;34m\u001b[0m\u001b[0;34m\u001b[0m\u001b[0m\n\u001b[0m\u001b[1;32m   1621\u001b[0m \u001b[0;34m\u001b[0m\u001b[0m\n\u001b[1;32m   1622\u001b[0m     \u001b[0;32mdef\u001b[0m \u001b[0mclose\u001b[0m\u001b[0;34m(\u001b[0m\u001b[0mself\u001b[0m\u001b[0;34m)\u001b[0m \u001b[0;34m->\u001b[0m \u001b[0;32mNone\u001b[0m\u001b[0;34m:\u001b[0m\u001b[0;34m\u001b[0m\u001b[0;34m\u001b[0m\u001b[0m\n",
            "\u001b[0;32m/usr/local/lib/python3.11/dist-packages/pandas/io/parsers/readers.py\u001b[0m in \u001b[0;36m_make_engine\u001b[0;34m(self, f, engine)\u001b[0m\n\u001b[1;32m   1878\u001b[0m                 \u001b[0;32mif\u001b[0m \u001b[0;34m\"b\"\u001b[0m \u001b[0;32mnot\u001b[0m \u001b[0;32min\u001b[0m \u001b[0mmode\u001b[0m\u001b[0;34m:\u001b[0m\u001b[0;34m\u001b[0m\u001b[0;34m\u001b[0m\u001b[0m\n\u001b[1;32m   1879\u001b[0m                     \u001b[0mmode\u001b[0m \u001b[0;34m+=\u001b[0m \u001b[0;34m\"b\"\u001b[0m\u001b[0;34m\u001b[0m\u001b[0;34m\u001b[0m\u001b[0m\n\u001b[0;32m-> 1880\u001b[0;31m             self.handles = get_handle(\n\u001b[0m\u001b[1;32m   1881\u001b[0m                 \u001b[0mf\u001b[0m\u001b[0;34m,\u001b[0m\u001b[0;34m\u001b[0m\u001b[0;34m\u001b[0m\u001b[0m\n\u001b[1;32m   1882\u001b[0m                 \u001b[0mmode\u001b[0m\u001b[0;34m,\u001b[0m\u001b[0;34m\u001b[0m\u001b[0;34m\u001b[0m\u001b[0m\n",
            "\u001b[0;32m/usr/local/lib/python3.11/dist-packages/pandas/io/common.py\u001b[0m in \u001b[0;36mget_handle\u001b[0;34m(path_or_buf, mode, encoding, compression, memory_map, is_text, errors, storage_options)\u001b[0m\n\u001b[1;32m    871\u001b[0m         \u001b[0;32mif\u001b[0m \u001b[0mioargs\u001b[0m\u001b[0;34m.\u001b[0m\u001b[0mencoding\u001b[0m \u001b[0;32mand\u001b[0m \u001b[0;34m\"b\"\u001b[0m \u001b[0;32mnot\u001b[0m \u001b[0;32min\u001b[0m \u001b[0mioargs\u001b[0m\u001b[0;34m.\u001b[0m\u001b[0mmode\u001b[0m\u001b[0;34m:\u001b[0m\u001b[0;34m\u001b[0m\u001b[0;34m\u001b[0m\u001b[0m\n\u001b[1;32m    872\u001b[0m             \u001b[0;31m# Encoding\u001b[0m\u001b[0;34m\u001b[0m\u001b[0;34m\u001b[0m\u001b[0m\n\u001b[0;32m--> 873\u001b[0;31m             handle = open(\n\u001b[0m\u001b[1;32m    874\u001b[0m                 \u001b[0mhandle\u001b[0m\u001b[0;34m,\u001b[0m\u001b[0;34m\u001b[0m\u001b[0;34m\u001b[0m\u001b[0m\n\u001b[1;32m    875\u001b[0m                 \u001b[0mioargs\u001b[0m\u001b[0;34m.\u001b[0m\u001b[0mmode\u001b[0m\u001b[0;34m,\u001b[0m\u001b[0;34m\u001b[0m\u001b[0;34m\u001b[0m\u001b[0m\n",
            "\u001b[0;31mFileNotFoundError\u001b[0m: [Errno 2] No such file or directory: 'your_dataset.csv'"
          ]
        }
      ],
      "source": [
        "# Example Usage (After Uploading the Dataset)\n",
        "file_path = \"your_dataset.csv\"  # Replace with actual file name\n",
        "\n",
        "# Load dataset\n",
        "df = load_data(file_path)\n",
        "\n",
        "# Summarize data\n",
        "summarize_data(df)\n",
        "\n",
        "# Check missing values\n",
        "missing_summary = check_missing_values(df)\n",
        "print(missing_summary)\n",
        "\n",
        "# Define target column (Replace with actual column name)\n",
        "target_column = \"target_variable\"\n",
        "\n",
        "# Train model (example: Random Forest)\n",
        "rf_pipeline, rf_metrics = train_model(df, target_column, model_type=\"random_forest\")\n",
        "\n",
        "# Display results\n",
        "print(\"Model Performance:\", rf_metrics)"
      ]
    },
    {
      "cell_type": "markdown",
      "metadata": {
        "id": "0W6uvUQkRz5K"
      },
      "source": [
        "## **Climate Merged Dataset**"
      ]
    },
    {
      "cell_type": "code",
      "execution_count": null,
      "metadata": {
        "colab": {
          "base_uri": "https://localhost:8080/"
        },
        "id": "G8ll2jDAR78x",
        "outputId": "7e1b671b-fcf9-40b6-8af8-ed5a44a54e19"
      },
      "outputs": [
        {
          "name": "stdout",
          "output_type": "stream",
          "text": [
            "Shape: (6323, 29)\n",
            "\n",
            "Info:\n",
            "<class 'pandas.core.frame.DataFrame'>\n",
            "RangeIndex: 6323 entries, 0 to 6322\n",
            "Data columns (total 29 columns):\n",
            " #   Column                                                              Non-Null Count  Dtype  \n",
            "---  ------                                                              --------------  -----  \n",
            " 0   Unnamed: 0                                                          6323 non-null   int64  \n",
            " 1   Entity                                                              6323 non-null   object \n",
            " 2   Year                                                                6323 non-null   int64  \n",
            " 3   Carbon dioxide emissions from buildings                             6323 non-null   float64\n",
            " 4   Carbon dioxide emissions from industry                              6323 non-null   float64\n",
            " 5   Carbon dioxide emissions from land use change and forestry          6323 non-null   float64\n",
            " 6   Carbon dioxide emissions from other fuel combustion                 6323 non-null   float64\n",
            " 7   Carbon dioxide emissions from transport                             6323 non-null   float64\n",
            " 8   Carbon dioxide emissions from manufacturing and construction        6323 non-null   float64\n",
            " 9   Fugitive emissions of carbon dioxide from energy production         6323 non-null   float64\n",
            " 10  Carbon dioxide emissions from electricity and heat                  6323 non-null   float64\n",
            " 11  Carbon dioxide emissions from bunker fuels                          6323 non-null   float64\n",
            " 12  Greenhouse gas emissions from agriculture                           6323 non-null   float64\n",
            " 13  Greenhouse gas emissions from land use change and forestry          6323 non-null   float64\n",
            " 14  Greenhouse gas emissions from waste                                 6323 non-null   float64\n",
            " 15  Greenhouse gas emissions from buildings                             6323 non-null   float64\n",
            " 16  Greenhouse gas emissions from industry                              6323 non-null   float64\n",
            " 17  Greenhouse gas emissions from manufacturing and construction        6323 non-null   float64\n",
            " 18  Greenhouse gas emissions from transport                             6323 non-null   float64\n",
            " 19  Greenhouse gas emissions from electricity and heat                  6323 non-null   float64\n",
            " 20  Fugitive emissions of greenhouse gases from energy production       6323 non-null   float64\n",
            " 21  Greenhouse gas emissions from other fuel combustion                 6323 non-null   float64\n",
            " 22  Greenhouse gas emissions from bunker fuels                          6323 non-null   float64\n",
            " 23  Annual CO₂ emissions (per capita)                                   6323 non-null   float64\n",
            " 24  Average Temperature                                                 5527 non-null   float64\n",
            " 25  mmfrom1993-2008average                                              6323 non-null   float64\n",
            " 26  Forest area (% of land area)                                        6193 non-null   float64\n",
            " 27  Population, total                                                   6323 non-null   float64\n",
            " 28  Renewable energy consumption (% of total final energy consumption)  6264 non-null   float64\n",
            "dtypes: float64(26), int64(2), object(1)\n",
            "memory usage: 1.4+ MB\n",
            "None\n",
            "\n",
            "Summary Statistics:\n",
            "        Unnamed: 0         Year  Carbon dioxide emissions from buildings  \\\n",
            "count  6323.000000  6323.000000                             6.323000e+03   \n",
            "mean   3163.753124  2005.529654                             5.575472e+07   \n",
            "std    1829.812654     9.219966                             2.544587e+08   \n",
            "min       0.000000  1990.000000                             0.000000e+00   \n",
            "25%    1580.500000  1998.000000                             8.000000e+04   \n",
            "50%    3161.000000  2006.000000                             6.600000e+05   \n",
            "75%    4741.500000  2014.000000                             7.360000e+06   \n",
            "max    6354.000000  2021.000000                             2.822010e+09   \n",
            "\n",
            "       Carbon dioxide emissions from industry  \\\n",
            "count                            6.323000e+03   \n",
            "mean                             2.125237e+07   \n",
            "std                              1.185633e+08   \n",
            "min                              0.000000e+00   \n",
            "25%                              1.000000e+04   \n",
            "50%                              4.700000e+05   \n",
            "75%                              2.865000e+06   \n",
            "max                              1.696360e+09   \n",
            "\n",
            "       Carbon dioxide emissions from land use change and forestry  \\\n",
            "count                                       6.323000e+03            \n",
            "mean                                        2.690093e+07            \n",
            "std                                         2.509279e+08            \n",
            "min                                        -1.637860e+09            \n",
            "25%                                        -7.650000e+05            \n",
            "50%                                         8.000000e+04            \n",
            "75%                                         1.056000e+07            \n",
            "max                                         2.405250e+09            \n",
            "\n",
            "       Carbon dioxide emissions from other fuel combustion  \\\n",
            "count                                       6.323000e+03     \n",
            "mean                                        1.261191e+07     \n",
            "std                                         5.805679e+07     \n",
            "min                                         0.000000e+00     \n",
            "25%                                         0.000000e+00     \n",
            "50%                                         2.500000e+05     \n",
            "75%                                         2.030000e+06     \n",
            "max                                         7.519400e+08     \n",
            "\n",
            "       Carbon dioxide emissions from transport  \\\n",
            "count                             6.323000e+03   \n",
            "mean                              1.180319e+08   \n",
            "std                               5.829772e+08   \n",
            "min                               0.000000e+00   \n",
            "25%                               6.200000e+05   \n",
            "50%                               3.210000e+06   \n",
            "75%                               1.827000e+07   \n",
            "max                               8.279320e+09   \n",
            "\n",
            "       Carbon dioxide emissions from manufacturing and construction  \\\n",
            "count                                       6.323000e+03              \n",
            "mean                                        1.026921e+08              \n",
            "std                                         5.192009e+08              \n",
            "min                                         0.000000e+00              \n",
            "25%                                         1.600000e+05              \n",
            "50%                                         1.530000e+06              \n",
            "75%                                         1.326500e+07              \n",
            "max                                         6.427310e+09              \n",
            "\n",
            "       Fugitive emissions of carbon dioxide from energy production  \\\n",
            "count                                       6.323000e+03             \n",
            "mean                                        6.097247e+06             \n",
            "std                                         2.587100e+07             \n",
            "min                                         0.000000e+00             \n",
            "25%                                         0.000000e+00             \n",
            "50%                                         1.500000e+05             \n",
            "75%                                         1.920000e+06             \n",
            "max                                         3.227600e+08             \n",
            "\n",
            "       Carbon dioxide emissions from electricity and heat  ...  \\\n",
            "count                                       6.323000e+03   ...   \n",
            "mean                                        2.549890e+08   ...   \n",
            "std                                         1.225914e+09   ...   \n",
            "min                                         0.000000e+00   ...   \n",
            "25%                                         2.200000e+05   ...   \n",
            "50%                                         3.920000e+06   ...   \n",
            "75%                                         3.344500e+07   ...   \n",
            "max                                         1.622524e+10   ...   \n",
            "\n",
            "       Greenhouse gas emissions from electricity and heat  \\\n",
            "count                                       6.323000e+03    \n",
            "mean                                        2.560967e+08    \n",
            "std                                         1.231280e+09    \n",
            "min                                         0.000000e+00    \n",
            "25%                                         2.200000e+05    \n",
            "50%                                         3.940000e+06    \n",
            "75%                                         3.357500e+07    \n",
            "max                                         1.630219e+10    \n",
            "\n",
            "       Fugitive emissions of greenhouse gases from energy production  \\\n",
            "count                                       6.323000e+03               \n",
            "mean                                        5.544787e+07               \n",
            "std                                         2.544258e+08               \n",
            "min                                         0.000000e+00               \n",
            "25%                                         0.000000e+00               \n",
            "50%                                         3.900000e+05               \n",
            "75%                                         9.020000e+06               \n",
            "max                                         3.336260e+09               \n",
            "\n",
            "       Greenhouse gas emissions from other fuel combustion  \\\n",
            "count                                       6.323000e+03     \n",
            "mean                                        1.286635e+07     \n",
            "std                                         5.926866e+07     \n",
            "min                                         0.000000e+00     \n",
            "25%                                         0.000000e+00     \n",
            "50%                                         2.700000e+05     \n",
            "75%                                         2.070000e+06     \n",
            "max                                         7.686300e+08     \n",
            "\n",
            "       Greenhouse gas emissions from bunker fuels  \\\n",
            "count                                6.323000e+03   \n",
            "mean                                 1.976765e+07   \n",
            "std                                  9.650206e+07   \n",
            "min                                  0.000000e+00   \n",
            "25%                                  7.000000e+04   \n",
            "50%                                  5.700000e+05   \n",
            "75%                                  3.250000e+06   \n",
            "max                                  1.338160e+09   \n",
            "\n",
            "       Annual CO₂ emissions (per capita)  Average Temperature  \\\n",
            "count                        6323.000000          5527.000000   \n",
            "mean                            4.748857            19.029716   \n",
            "std                             7.899655             8.089890   \n",
            "min                             0.000000            -4.969122   \n",
            "25%                             0.600898            11.812214   \n",
            "50%                             2.298188            22.619158   \n",
            "75%                             6.635468            25.580124   \n",
            "max                           364.688320            29.794220   \n",
            "\n",
            "       mmfrom1993-2008average  Forest area (% of land area)  \\\n",
            "count             6323.000000                   6193.000000   \n",
            "mean                19.408416                     33.460063   \n",
            "std                 29.163940                     24.244169   \n",
            "min                -22.847396                      0.000000   \n",
            "25%                 -2.647396                     12.160463   \n",
            "50%                 14.619271                     32.107530   \n",
            "75%                 50.461706                     51.646391   \n",
            "max                 66.704325                     96.226381   \n",
            "\n",
            "       Population, total  \\\n",
            "count       6.323000e+03   \n",
            "mean        1.220099e+08   \n",
            "std         5.723961e+08   \n",
            "min         8.798000e+03   \n",
            "25%         2.157018e+06   \n",
            "50%         8.365878e+06   \n",
            "75%         2.881387e+07   \n",
            "max         7.921184e+09   \n",
            "\n",
            "       Renewable energy consumption (% of total final energy consumption)  \n",
            "count                                        6264.000000                   \n",
            "mean                                           33.510529                   \n",
            "std                                            30.427138                   \n",
            "min                                             0.000000                   \n",
            "25%                                             6.563883                   \n",
            "50%                                            24.450000                   \n",
            "75%                                            57.525000                   \n",
            "max                                            98.300000                   \n",
            "\n",
            "[8 rows x 28 columns]\n"
          ]
        }
      ],
      "source": [
        "# Loading the dataset\n",
        "file_path = \"climate_data_final_df.csv\"\n",
        "df_climate = load_data(file_path)\n",
        "\n",
        "# Data summary\n",
        "summarize_data(df_climate)"
      ]
    },
    {
      "cell_type": "code",
      "execution_count": null,
      "metadata": {
        "colab": {
          "base_uri": "https://localhost:8080/"
        },
        "collapsed": true,
        "id": "AyToLDA-S4YX",
        "outputId": "2dd1b988-bfde-4bf5-98c2-4d527c06b23a"
      },
      "outputs": [
        {
          "name": "stdout",
          "output_type": "stream",
          "text": [
            "                                                    Missing Values    Percent\n",
            "Average Temperature                                            796  12.588961\n",
            "Forest area (% of land area)                                   130   2.055986\n",
            "Renewable energy consumption (% of total final ...              59   0.933101\n",
            "Entity                                                           0   0.000000\n",
            "Unnamed: 0                                                       0   0.000000\n",
            "Carbon dioxide emissions from land use change a...               0   0.000000\n",
            "Carbon dioxide emissions from other fuel combus...               0   0.000000\n",
            "Carbon dioxide emissions from transport                          0   0.000000\n",
            "Carbon dioxide emissions from manufacturing and...               0   0.000000\n",
            "Fugitive emissions of carbon dioxide from energ...               0   0.000000\n",
            "Year                                                             0   0.000000\n",
            "Carbon dioxide emissions from buildings                          0   0.000000\n",
            "Carbon dioxide emissions from industry                           0   0.000000\n",
            "Greenhouse gas emissions from agriculture                        0   0.000000\n",
            "Carbon dioxide emissions from bunker fuels                       0   0.000000\n",
            "Carbon dioxide emissions from electricity and heat               0   0.000000\n",
            "Greenhouse gas emissions from land use change a...               0   0.000000\n",
            "Greenhouse gas emissions from manufacturing and...               0   0.000000\n",
            "Greenhouse gas emissions from waste                              0   0.000000\n",
            "Greenhouse gas emissions from buildings                          0   0.000000\n",
            "Greenhouse gas emissions from industry                           0   0.000000\n",
            "Fugitive emissions of greenhouse gases from ene...               0   0.000000\n",
            "Greenhouse gas emissions from electricity and heat               0   0.000000\n",
            "Greenhouse gas emissions from transport                          0   0.000000\n",
            "Greenhouse gas emissions from other fuel combus...               0   0.000000\n",
            "Annual CO₂ emissions (per capita)                                0   0.000000\n",
            "Greenhouse gas emissions from bunker fuels                       0   0.000000\n",
            "mmfrom1993-2008average                                           0   0.000000\n",
            "Population, total                                                0   0.000000\n"
          ]
        }
      ],
      "source": [
        "# Check missing values\n",
        "missing_summary = check_missing_values(df_climate)\n",
        "print(missing_summary)"
      ]
    },
    {
      "cell_type": "markdown",
      "metadata": {
        "id": "Wp9bZ_VeWA5o"
      },
      "source": [
        "**Temperature Prediction**"
      ]
    },
    {
      "cell_type": "code",
      "execution_count": null,
      "metadata": {
        "id": "cVU1OPcIYWRl"
      },
      "outputs": [],
      "source": [
        "target_column = \"Average Temperature\""
      ]
    }
  ],
  "metadata": {
    "colab": {
      "provenance": []
    },
    "kernelspec": {
      "display_name": "Python 3",
      "name": "python3"
    },
    "language_info": {
      "name": "python"
    }
  },
  "nbformat": 4,
  "nbformat_minor": 0
}