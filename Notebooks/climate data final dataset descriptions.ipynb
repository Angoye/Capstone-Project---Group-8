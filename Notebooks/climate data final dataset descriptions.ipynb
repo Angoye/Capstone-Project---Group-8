{
 "cells": [
  {
   "cell_type": "markdown",
   "metadata": {},
   "source": [
    "### Climate Data Final dataset description"
   ]
  },
  {
   "cell_type": "markdown",
   "metadata": {},
   "source": [
    "- The dataset combines human activities, like CO₂ emissions, with natural factors, such as temperature and forest cover, to give researchers a clearer understanding of how people and the environment together impact climate change."
   ]
  },
  {
   "cell_type": "markdown",
   "metadata": {},
   "source": [
    "#### Dataset Overview:\n"
   ]
  },
  {
   "cell_type": "markdown",
   "metadata": {},
   "source": [
    "- Entries: 6,323 rows\n",
    "\n",
    "- Columns: 29\n",
    "\n",
    "- Primary Identifiers:\n",
    "\n",
    "    - Entity (countries)\n",
    "\n",
    "    - Year"
   ]
  },
  {
   "cell_type": "markdown",
   "metadata": {},
   "source": [
    "#### Columns Description"
   ]
  },
  {
   "cell_type": "markdown",
   "metadata": {},
   "source": [
    "##### Key data categories:"
   ]
  },
  {
   "cell_type": "markdown",
   "metadata": {},
   "source": [
    "- Carbon Dioxide Emissions: Breakdown by source (e.g., buildings, industry, transport, energy,land use change and forestry,other fuel combustion,manufacturing and construction,electricity and heat, bunker fuels ).\n",
    "\n",
    "- Greenhouse Gas Emissions: Similar breakdown as CO₂ emissions.\n",
    "\n",
    "- Climate Impact Metrics:\n",
    "\n",
    "    - Annual CO₂ emissions (per capita) - provides the amount of carbon dioxide emitted per person,Higher numbers indicate greater individual contributions to CO₂ emissions.\n",
    "\n",
    "    - Average Temperature - represents the average temperature recorded over a specific time period(years)\n",
    "\n",
    "    - mmfrom1993-2008average (sea level deviation)- tracks how much global sea levels have changed compared to the reference period (1993–2008).\n",
    "\n",
    "    - Forest area (% of land area) (some missing values)- reflects the percentage of a country’s or region’s land area that is covered by forests.\n",
    "\n",
    "- Socioeconomic Data:\n",
    "\n",
    "    - Population, total\n",
    "\n",
    "    - Renewable energy consumption (% of total final energy consumption)\n",
    "\n",
    "- Potential use case:\n",
    "    - Climate Change Impact Analysis\n",
    "    - Forecasting Climate Trends\n",
    "    - Policy Impact Assessment\n",
    "    - Carbon Footprint Analysis by Sector"
   ]
  },
  {
   "cell_type": "markdown",
   "metadata": {},
   "source": []
  }
 ],
 "metadata": {
  "language_info": {
   "name": "python"
  }
 },
 "nbformat": 4,
 "nbformat_minor": 2
}
