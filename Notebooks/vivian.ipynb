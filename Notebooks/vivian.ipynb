{
 "cells": [
  {
   "cell_type": "markdown",
   "metadata": {},
   "source": [
    "This dataset offers vital insights into the Global Climate Risk Index, highlighting economic data and the impact of climate-related disasters on countries worldwide. By analyzing columns such as geom, cri_rank, cri_score, fatalities_per_100k_rank, fatalities per 100k total, and fatalities rank, you can identify the regions most affected by climate hazards. This comprehensive information can help strategize solutions to reduce potential losses and enhance preparedness.We can work towards a safer future where communities are shielded from the challenges of global climate change.\n",
    "\n"
   ]
  },
  {
   "cell_type": "markdown",
   "metadata": {},
   "source": [
    "##### Key Questions"
   ]
  },
  {
   "cell_type": "markdown",
   "metadata": {},
   "source": [
    "- What are the trends in fatalities across countries with high climate risk?\n",
    "\n",
    "- Which countries face the highest economic losses, and are there correlations with their CRI ranks?"
   ]
  },
  {
   "cell_type": "code",
   "execution_count": 3,
   "metadata": {},
   "outputs": [],
   "source": [
    "import pandas as pd\n",
    "import matplotlib.pyplot as plt\n",
    "import seaborn as sns\n",
    "from sklearn.model_selection import train_test_split,GridSearchCV\n",
    "from sklearn.ensemble import RandomForestRegressor,GradientBoostingRegressor\n",
    "from xgboost import XGBRegressor\n",
    "from sklearn.metrics import mean_absolute_error, r2_score\n"
   ]
  },
  {
   "cell_type": "markdown",
   "metadata": {},
   "source": [
    "#### Climate Risk Index     "
   ]
  },
  {
   "cell_type": "code",
   "execution_count": 4,
   "metadata": {},
   "outputs": [
    {
     "data": {
      "text/html": [
       "<div>\n",
       "<style scoped>\n",
       "    .dataframe tbody tr th:only-of-type {\n",
       "        vertical-align: middle;\n",
       "    }\n",
       "\n",
       "    .dataframe tbody tr th {\n",
       "        vertical-align: top;\n",
       "    }\n",
       "\n",
       "    .dataframe thead th {\n",
       "        text-align: right;\n",
       "    }\n",
       "</style>\n",
       "<table border=\"1\" class=\"dataframe\">\n",
       "  <thead>\n",
       "    <tr style=\"text-align: right;\">\n",
       "      <th></th>\n",
       "      <th>index</th>\n",
       "      <th>cartodb_id</th>\n",
       "      <th>the_geom</th>\n",
       "      <th>the_geom_webmercator</th>\n",
       "      <th>country</th>\n",
       "      <th>cri_rank</th>\n",
       "      <th>cri_score</th>\n",
       "      <th>fatalities_per_100k_rank</th>\n",
       "      <th>fatalities_per_100k_total</th>\n",
       "      <th>fatalities_rank</th>\n",
       "      <th>fatalities_total</th>\n",
       "      <th>losses_per_gdp__rank</th>\n",
       "      <th>losses_per_gdp__total</th>\n",
       "      <th>losses_usdm_ppp_rank</th>\n",
       "      <th>losses_usdm_ppp_total</th>\n",
       "      <th>rw_country_code</th>\n",
       "      <th>rw_country_name</th>\n",
       "    </tr>\n",
       "  </thead>\n",
       "  <tbody>\n",
       "    <tr>\n",
       "      <th>0</th>\n",
       "      <td>0</td>\n",
       "      <td>1</td>\n",
       "      <td>NaN</td>\n",
       "      <td>NaN</td>\n",
       "      <td>Saudi Arabia</td>\n",
       "      <td>79</td>\n",
       "      <td>72.50</td>\n",
       "      <td>18</td>\n",
       "      <td>0.45</td>\n",
       "      <td>18</td>\n",
       "      <td>140</td>\n",
       "      <td>131</td>\n",
       "      <td>0.0001</td>\n",
       "      <td>119</td>\n",
       "      <td>1.229</td>\n",
       "      <td>SAU</td>\n",
       "      <td>Saudi Arabia</td>\n",
       "    </tr>\n",
       "    <tr>\n",
       "      <th>1</th>\n",
       "      <td>1</td>\n",
       "      <td>2</td>\n",
       "      <td>NaN</td>\n",
       "      <td>NaN</td>\n",
       "      <td>Romania</td>\n",
       "      <td>61</td>\n",
       "      <td>61.50</td>\n",
       "      <td>112</td>\n",
       "      <td>0.01</td>\n",
       "      <td>102</td>\n",
       "      <td>1</td>\n",
       "      <td>16</td>\n",
       "      <td>0.6746</td>\n",
       "      <td>11</td>\n",
       "      <td>2797.884</td>\n",
       "      <td>ROU</td>\n",
       "      <td>Romania</td>\n",
       "    </tr>\n",
       "    <tr>\n",
       "      <th>2</th>\n",
       "      <td>2</td>\n",
       "      <td>3</td>\n",
       "      <td>NaN</td>\n",
       "      <td>NaN</td>\n",
       "      <td>Spain</td>\n",
       "      <td>69</td>\n",
       "      <td>66.33</td>\n",
       "      <td>74</td>\n",
       "      <td>0.05</td>\n",
       "      <td>47</td>\n",
       "      <td>22</td>\n",
       "      <td>86</td>\n",
       "      <td>0.0394</td>\n",
       "      <td>31</td>\n",
       "      <td>637.070</td>\n",
       "      <td>ESP</td>\n",
       "      <td>Spain</td>\n",
       "    </tr>\n",
       "    <tr>\n",
       "      <th>3</th>\n",
       "      <td>3</td>\n",
       "      <td>4</td>\n",
       "      <td>NaN</td>\n",
       "      <td>NaN</td>\n",
       "      <td>Slovenia</td>\n",
       "      <td>135</td>\n",
       "      <td>124.50</td>\n",
       "      <td>114</td>\n",
       "      <td>0.00</td>\n",
       "      <td>114</td>\n",
       "      <td>0</td>\n",
       "      <td>135</td>\n",
       "      <td>NaN</td>\n",
       "      <td>135</td>\n",
       "      <td>0.000</td>\n",
       "      <td>SVN</td>\n",
       "      <td>Slovenia</td>\n",
       "    </tr>\n",
       "    <tr>\n",
       "      <th>4</th>\n",
       "      <td>4</td>\n",
       "      <td>5</td>\n",
       "      <td>NaN</td>\n",
       "      <td>NaN</td>\n",
       "      <td>South Sudan</td>\n",
       "      <td>133</td>\n",
       "      <td>117.33</td>\n",
       "      <td>114</td>\n",
       "      <td>0.00</td>\n",
       "      <td>114</td>\n",
       "      <td>0</td>\n",
       "      <td>120</td>\n",
       "      <td>0.0021</td>\n",
       "      <td>122</td>\n",
       "      <td>0.508</td>\n",
       "      <td>SSD</td>\n",
       "      <td>South Sudan</td>\n",
       "    </tr>\n",
       "    <tr>\n",
       "      <th>...</th>\n",
       "      <td>...</td>\n",
       "      <td>...</td>\n",
       "      <td>...</td>\n",
       "      <td>...</td>\n",
       "      <td>...</td>\n",
       "      <td>...</td>\n",
       "      <td>...</td>\n",
       "      <td>...</td>\n",
       "      <td>...</td>\n",
       "      <td>...</td>\n",
       "      <td>...</td>\n",
       "      <td>...</td>\n",
       "      <td>...</td>\n",
       "      <td>...</td>\n",
       "      <td>...</td>\n",
       "      <td>...</td>\n",
       "      <td>...</td>\n",
       "    </tr>\n",
       "    <tr>\n",
       "      <th>177</th>\n",
       "      <td>177</td>\n",
       "      <td>178</td>\n",
       "      <td>NaN</td>\n",
       "      <td>NaN</td>\n",
       "      <td>Seychelles</td>\n",
       "      <td>135</td>\n",
       "      <td>124.50</td>\n",
       "      <td>114</td>\n",
       "      <td>0.00</td>\n",
       "      <td>114</td>\n",
       "      <td>0</td>\n",
       "      <td>135</td>\n",
       "      <td>NaN</td>\n",
       "      <td>135</td>\n",
       "      <td>0.000</td>\n",
       "      <td>SYC</td>\n",
       "      <td>Seychelles</td>\n",
       "    </tr>\n",
       "    <tr>\n",
       "      <th>178</th>\n",
       "      <td>178</td>\n",
       "      <td>179</td>\n",
       "      <td>NaN</td>\n",
       "      <td>NaN</td>\n",
       "      <td>Gambia</td>\n",
       "      <td>135</td>\n",
       "      <td>124.50</td>\n",
       "      <td>114</td>\n",
       "      <td>0.00</td>\n",
       "      <td>114</td>\n",
       "      <td>0</td>\n",
       "      <td>135</td>\n",
       "      <td>NaN</td>\n",
       "      <td>135</td>\n",
       "      <td>0.000</td>\n",
       "      <td>GMB</td>\n",
       "      <td>Gambia</td>\n",
       "    </tr>\n",
       "    <tr>\n",
       "      <th>179</th>\n",
       "      <td>179</td>\n",
       "      <td>180</td>\n",
       "      <td>NaN</td>\n",
       "      <td>NaN</td>\n",
       "      <td>Togo</td>\n",
       "      <td>131</td>\n",
       "      <td>114.33</td>\n",
       "      <td>104</td>\n",
       "      <td>0.01</td>\n",
       "      <td>102</td>\n",
       "      <td>1</td>\n",
       "      <td>123</td>\n",
       "      <td>0.0012</td>\n",
       "      <td>130</td>\n",
       "      <td>0.130</td>\n",
       "      <td>TGO</td>\n",
       "      <td>Togo</td>\n",
       "    </tr>\n",
       "    <tr>\n",
       "      <th>180</th>\n",
       "      <td>180</td>\n",
       "      <td>181</td>\n",
       "      <td>NaN</td>\n",
       "      <td>NaN</td>\n",
       "      <td>Trinidad and Tobago</td>\n",
       "      <td>135</td>\n",
       "      <td>124.50</td>\n",
       "      <td>114</td>\n",
       "      <td>0.00</td>\n",
       "      <td>114</td>\n",
       "      <td>0</td>\n",
       "      <td>135</td>\n",
       "      <td>NaN</td>\n",
       "      <td>135</td>\n",
       "      <td>0.000</td>\n",
       "      <td>TTO</td>\n",
       "      <td>Trinidad and Tobago</td>\n",
       "    </tr>\n",
       "    <tr>\n",
       "      <th>181</th>\n",
       "      <td>181</td>\n",
       "      <td>182</td>\n",
       "      <td>NaN</td>\n",
       "      <td>NaN</td>\n",
       "      <td>Tonga</td>\n",
       "      <td>135</td>\n",
       "      <td>124.50</td>\n",
       "      <td>114</td>\n",
       "      <td>0.00</td>\n",
       "      <td>114</td>\n",
       "      <td>0</td>\n",
       "      <td>135</td>\n",
       "      <td>NaN</td>\n",
       "      <td>135</td>\n",
       "      <td>0.000</td>\n",
       "      <td>TON</td>\n",
       "      <td>Tonga</td>\n",
       "    </tr>\n",
       "  </tbody>\n",
       "</table>\n",
       "<p>182 rows × 17 columns</p>\n",
       "</div>"
      ],
      "text/plain": [
       "     index  cartodb_id  the_geom  the_geom_webmercator              country  \\\n",
       "0        0           1       NaN                   NaN         Saudi Arabia   \n",
       "1        1           2       NaN                   NaN              Romania   \n",
       "2        2           3       NaN                   NaN                Spain   \n",
       "3        3           4       NaN                   NaN             Slovenia   \n",
       "4        4           5       NaN                   NaN          South Sudan   \n",
       "..     ...         ...       ...                   ...                  ...   \n",
       "177    177         178       NaN                   NaN           Seychelles   \n",
       "178    178         179       NaN                   NaN               Gambia   \n",
       "179    179         180       NaN                   NaN                 Togo   \n",
       "180    180         181       NaN                   NaN  Trinidad and Tobago   \n",
       "181    181         182       NaN                   NaN                Tonga   \n",
       "\n",
       "     cri_rank  cri_score  fatalities_per_100k_rank  fatalities_per_100k_total  \\\n",
       "0          79      72.50                        18                       0.45   \n",
       "1          61      61.50                       112                       0.01   \n",
       "2          69      66.33                        74                       0.05   \n",
       "3         135     124.50                       114                       0.00   \n",
       "4         133     117.33                       114                       0.00   \n",
       "..        ...        ...                       ...                        ...   \n",
       "177       135     124.50                       114                       0.00   \n",
       "178       135     124.50                       114                       0.00   \n",
       "179       131     114.33                       104                       0.01   \n",
       "180       135     124.50                       114                       0.00   \n",
       "181       135     124.50                       114                       0.00   \n",
       "\n",
       "     fatalities_rank  fatalities_total  losses_per_gdp__rank  \\\n",
       "0                 18               140                   131   \n",
       "1                102                 1                    16   \n",
       "2                 47                22                    86   \n",
       "3                114                 0                   135   \n",
       "4                114                 0                   120   \n",
       "..               ...               ...                   ...   \n",
       "177              114                 0                   135   \n",
       "178              114                 0                   135   \n",
       "179              102                 1                   123   \n",
       "180              114                 0                   135   \n",
       "181              114                 0                   135   \n",
       "\n",
       "     losses_per_gdp__total  losses_usdm_ppp_rank  losses_usdm_ppp_total  \\\n",
       "0                   0.0001                   119                  1.229   \n",
       "1                   0.6746                    11               2797.884   \n",
       "2                   0.0394                    31                637.070   \n",
       "3                      NaN                   135                  0.000   \n",
       "4                   0.0021                   122                  0.508   \n",
       "..                     ...                   ...                    ...   \n",
       "177                    NaN                   135                  0.000   \n",
       "178                    NaN                   135                  0.000   \n",
       "179                 0.0012                   130                  0.130   \n",
       "180                    NaN                   135                  0.000   \n",
       "181                    NaN                   135                  0.000   \n",
       "\n",
       "    rw_country_code      rw_country_name  \n",
       "0               SAU         Saudi Arabia  \n",
       "1               ROU              Romania  \n",
       "2               ESP                Spain  \n",
       "3               SVN             Slovenia  \n",
       "4               SSD          South Sudan  \n",
       "..              ...                  ...  \n",
       "177             SYC           Seychelles  \n",
       "178             GMB               Gambia  \n",
       "179             TGO                 Togo  \n",
       "180             TTO  Trinidad and Tobago  \n",
       "181             TON                Tonga  \n",
       "\n",
       "[182 rows x 17 columns]"
      ]
     },
     "execution_count": 4,
     "metadata": {},
     "output_type": "execute_result"
    }
   ],
   "source": [
    "# Load the dataset\n",
    "index_df = pd.read_csv(r'C:\\Users\\user\\Documents\\flatiron\\Phase 5\\Capstone-Project---Group-8\\Data\\Climate Change - datasets\\Climate Risk Index.csv')\n",
    "index_df"
   ]
  },
  {
   "cell_type": "code",
   "execution_count": 5,
   "metadata": {},
   "outputs": [
    {
     "data": {
      "text/html": [
       "<div>\n",
       "<style scoped>\n",
       "    .dataframe tbody tr th:only-of-type {\n",
       "        vertical-align: middle;\n",
       "    }\n",
       "\n",
       "    .dataframe tbody tr th {\n",
       "        vertical-align: top;\n",
       "    }\n",
       "\n",
       "    .dataframe thead th {\n",
       "        text-align: right;\n",
       "    }\n",
       "</style>\n",
       "<table border=\"1\" class=\"dataframe\">\n",
       "  <thead>\n",
       "    <tr style=\"text-align: right;\">\n",
       "      <th></th>\n",
       "      <th>index</th>\n",
       "      <th>cartodb_id</th>\n",
       "      <th>the_geom</th>\n",
       "      <th>the_geom_webmercator</th>\n",
       "      <th>cri_rank</th>\n",
       "      <th>cri_score</th>\n",
       "      <th>fatalities_per_100k_rank</th>\n",
       "      <th>fatalities_per_100k_total</th>\n",
       "      <th>fatalities_rank</th>\n",
       "      <th>fatalities_total</th>\n",
       "      <th>losses_per_gdp__rank</th>\n",
       "      <th>losses_per_gdp__total</th>\n",
       "      <th>losses_usdm_ppp_rank</th>\n",
       "      <th>losses_usdm_ppp_total</th>\n",
       "    </tr>\n",
       "  </thead>\n",
       "  <tbody>\n",
       "    <tr>\n",
       "      <th>count</th>\n",
       "      <td>182.000000</td>\n",
       "      <td>182.000000</td>\n",
       "      <td>0.0</td>\n",
       "      <td>0.0</td>\n",
       "      <td>182.000000</td>\n",
       "      <td>182.000000</td>\n",
       "      <td>182.000000</td>\n",
       "      <td>182.000000</td>\n",
       "      <td>182.000000</td>\n",
       "      <td>182.000000</td>\n",
       "      <td>182.000000</td>\n",
       "      <td>131.000000</td>\n",
       "      <td>182.000000</td>\n",
       "      <td>182.000000</td>\n",
       "    </tr>\n",
       "    <tr>\n",
       "      <th>mean</th>\n",
       "      <td>90.500000</td>\n",
       "      <td>91.500000</td>\n",
       "      <td>NaN</td>\n",
       "      <td>NaN</td>\n",
       "      <td>85.230769</td>\n",
       "      <td>81.791923</td>\n",
       "      <td>78.609890</td>\n",
       "      <td>0.519670</td>\n",
       "      <td>77.626374</td>\n",
       "      <td>86.840659</td>\n",
       "      <td>85.302198</td>\n",
       "      <td>1.517654</td>\n",
       "      <td>85.302198</td>\n",
       "      <td>907.507599</td>\n",
       "    </tr>\n",
       "    <tr>\n",
       "      <th>std</th>\n",
       "      <td>52.683014</td>\n",
       "      <td>52.683014</td>\n",
       "      <td>NaN</td>\n",
       "      <td>NaN</td>\n",
       "      <td>44.708529</td>\n",
       "      <td>34.582412</td>\n",
       "      <td>37.858511</td>\n",
       "      <td>3.393934</td>\n",
       "      <td>37.500688</td>\n",
       "      <td>427.350623</td>\n",
       "      <td>44.691600</td>\n",
       "      <td>8.171267</td>\n",
       "      <td>44.691600</td>\n",
       "      <td>4483.998505</td>\n",
       "    </tr>\n",
       "    <tr>\n",
       "      <th>min</th>\n",
       "      <td>0.000000</td>\n",
       "      <td>1.000000</td>\n",
       "      <td>NaN</td>\n",
       "      <td>NaN</td>\n",
       "      <td>1.000000</td>\n",
       "      <td>12.170000</td>\n",
       "      <td>1.000000</td>\n",
       "      <td>0.000000</td>\n",
       "      <td>1.000000</td>\n",
       "      <td>0.000000</td>\n",
       "      <td>1.000000</td>\n",
       "      <td>0.000100</td>\n",
       "      <td>1.000000</td>\n",
       "      <td>0.000000</td>\n",
       "    </tr>\n",
       "    <tr>\n",
       "      <th>25%</th>\n",
       "      <td>45.250000</td>\n",
       "      <td>46.250000</td>\n",
       "      <td>NaN</td>\n",
       "      <td>NaN</td>\n",
       "      <td>46.250000</td>\n",
       "      <td>52.872500</td>\n",
       "      <td>46.250000</td>\n",
       "      <td>0.000000</td>\n",
       "      <td>46.250000</td>\n",
       "      <td>0.000000</td>\n",
       "      <td>46.250000</td>\n",
       "      <td>0.016500</td>\n",
       "      <td>46.250000</td>\n",
       "      <td>0.000000</td>\n",
       "    </tr>\n",
       "    <tr>\n",
       "      <th>50%</th>\n",
       "      <td>90.500000</td>\n",
       "      <td>91.500000</td>\n",
       "      <td>NaN</td>\n",
       "      <td>NaN</td>\n",
       "      <td>91.000000</td>\n",
       "      <td>77.500000</td>\n",
       "      <td>91.500000</td>\n",
       "      <td>0.020000</td>\n",
       "      <td>90.000000</td>\n",
       "      <td>2.000000</td>\n",
       "      <td>91.500000</td>\n",
       "      <td>0.084100</td>\n",
       "      <td>91.500000</td>\n",
       "      <td>30.347000</td>\n",
       "    </tr>\n",
       "    <tr>\n",
       "      <th>75%</th>\n",
       "      <td>135.750000</td>\n",
       "      <td>136.750000</td>\n",
       "      <td>NaN</td>\n",
       "      <td>NaN</td>\n",
       "      <td>135.000000</td>\n",
       "      <td>124.500000</td>\n",
       "      <td>114.000000</td>\n",
       "      <td>0.120000</td>\n",
       "      <td>114.000000</td>\n",
       "      <td>22.750000</td>\n",
       "      <td>135.000000</td>\n",
       "      <td>0.275950</td>\n",
       "      <td>135.000000</td>\n",
       "      <td>262.178250</td>\n",
       "    </tr>\n",
       "    <tr>\n",
       "      <th>max</th>\n",
       "      <td>181.000000</td>\n",
       "      <td>182.000000</td>\n",
       "      <td>NaN</td>\n",
       "      <td>NaN</td>\n",
       "      <td>135.000000</td>\n",
       "      <td>124.500000</td>\n",
       "      <td>114.000000</td>\n",
       "      <td>43.660000</td>\n",
       "      <td>114.000000</td>\n",
       "      <td>4317.000000</td>\n",
       "      <td>135.000000</td>\n",
       "      <td>77.369400</td>\n",
       "      <td>135.000000</td>\n",
       "      <td>40077.222000</td>\n",
       "    </tr>\n",
       "  </tbody>\n",
       "</table>\n",
       "</div>"
      ],
      "text/plain": [
       "            index  cartodb_id  the_geom  the_geom_webmercator    cri_rank  \\\n",
       "count  182.000000  182.000000       0.0                   0.0  182.000000   \n",
       "mean    90.500000   91.500000       NaN                   NaN   85.230769   \n",
       "std     52.683014   52.683014       NaN                   NaN   44.708529   \n",
       "min      0.000000    1.000000       NaN                   NaN    1.000000   \n",
       "25%     45.250000   46.250000       NaN                   NaN   46.250000   \n",
       "50%     90.500000   91.500000       NaN                   NaN   91.000000   \n",
       "75%    135.750000  136.750000       NaN                   NaN  135.000000   \n",
       "max    181.000000  182.000000       NaN                   NaN  135.000000   \n",
       "\n",
       "        cri_score  fatalities_per_100k_rank  fatalities_per_100k_total  \\\n",
       "count  182.000000                182.000000                 182.000000   \n",
       "mean    81.791923                 78.609890                   0.519670   \n",
       "std     34.582412                 37.858511                   3.393934   \n",
       "min     12.170000                  1.000000                   0.000000   \n",
       "25%     52.872500                 46.250000                   0.000000   \n",
       "50%     77.500000                 91.500000                   0.020000   \n",
       "75%    124.500000                114.000000                   0.120000   \n",
       "max    124.500000                114.000000                  43.660000   \n",
       "\n",
       "       fatalities_rank  fatalities_total  losses_per_gdp__rank  \\\n",
       "count       182.000000        182.000000            182.000000   \n",
       "mean         77.626374         86.840659             85.302198   \n",
       "std          37.500688        427.350623             44.691600   \n",
       "min           1.000000          0.000000              1.000000   \n",
       "25%          46.250000          0.000000             46.250000   \n",
       "50%          90.000000          2.000000             91.500000   \n",
       "75%         114.000000         22.750000            135.000000   \n",
       "max         114.000000       4317.000000            135.000000   \n",
       "\n",
       "       losses_per_gdp__total  losses_usdm_ppp_rank  losses_usdm_ppp_total  \n",
       "count             131.000000            182.000000             182.000000  \n",
       "mean                1.517654             85.302198             907.507599  \n",
       "std                 8.171267             44.691600            4483.998505  \n",
       "min                 0.000100              1.000000               0.000000  \n",
       "25%                 0.016500             46.250000               0.000000  \n",
       "50%                 0.084100             91.500000              30.347000  \n",
       "75%                 0.275950            135.000000             262.178250  \n",
       "max                77.369400            135.000000           40077.222000  "
      ]
     },
     "execution_count": 5,
     "metadata": {},
     "output_type": "execute_result"
    }
   ],
   "source": [
    "#Inspect the dataset\n",
    "index_df.describe()"
   ]
  },
  {
   "cell_type": "code",
   "execution_count": 6,
   "metadata": {},
   "outputs": [
    {
     "name": "stdout",
     "output_type": "stream",
     "text": [
      "<class 'pandas.core.frame.DataFrame'>\n",
      "RangeIndex: 182 entries, 0 to 181\n",
      "Data columns (total 17 columns):\n",
      " #   Column                     Non-Null Count  Dtype  \n",
      "---  ------                     --------------  -----  \n",
      " 0   index                      182 non-null    int64  \n",
      " 1   cartodb_id                 182 non-null    int64  \n",
      " 2   the_geom                   0 non-null      float64\n",
      " 3   the_geom_webmercator       0 non-null      float64\n",
      " 4   country                    182 non-null    object \n",
      " 5   cri_rank                   182 non-null    int64  \n",
      " 6   cri_score                  182 non-null    float64\n",
      " 7   fatalities_per_100k_rank   182 non-null    int64  \n",
      " 8   fatalities_per_100k_total  182 non-null    float64\n",
      " 9   fatalities_rank            182 non-null    int64  \n",
      " 10  fatalities_total           182 non-null    int64  \n",
      " 11  losses_per_gdp__rank       182 non-null    int64  \n",
      " 12  losses_per_gdp__total      131 non-null    float64\n",
      " 13  losses_usdm_ppp_rank       182 non-null    int64  \n",
      " 14  losses_usdm_ppp_total      182 non-null    float64\n",
      " 15  rw_country_code            179 non-null    object \n",
      " 16  rw_country_name            179 non-null    object \n",
      "dtypes: float64(6), int64(8), object(3)\n",
      "memory usage: 24.3+ KB\n"
     ]
    }
   ],
   "source": [
    "# Checking the Data types\n",
    "index_df.info()"
   ]
  },
  {
   "cell_type": "markdown",
   "metadata": {},
   "source": [
    "1) cri_rank & cri_score\n",
    "- CRI score and rank measure how severely a country is affected by climate-related events.\n",
    "A higher CRI rank indicates greater vulnerability to the negative impacts of climate-related disasters.\n",
    "\n",
    "2) fatalities_per_100k_total & fatalities_rank\n",
    " - Show how deadly climate disasters are per 100,000 people.\n",
    "Higher fatalities suggest regions with poor climate resilience.\n",
    "\n",
    "3) losses_per_gdp_total & losses_per_gdp_rank\n",
    "-Shows economic losses as a percentage of GDP, helping measure financial vulnerability.\n",
    "If losses are high, climate events have a major economic impact in that country.\n",
    "\n",
    "4) losses_usdm_ppp_total & losses_usdm_ppp_rank\n",
    "- Shows total climate-induced economic losses in million USD.\n",
    "Helps to compare how much money different countries lose due to climate-related disasters."
   ]
  },
  {
   "cell_type": "markdown",
   "metadata": {},
   "source": [
    "### Data cleaning"
   ]
  },
  {
   "cell_type": "markdown",
   "metadata": {},
   "source": [
    "#### Checking for missing values"
   ]
  },
  {
   "cell_type": "code",
   "execution_count": 7,
   "metadata": {},
   "outputs": [],
   "source": [
    "# Drop the null columns\n",
    "index_df = index_df.drop(['the_geom','the_geom_webmercator'],axis=1)"
   ]
  },
  {
   "cell_type": "code",
   "execution_count": 8,
   "metadata": {},
   "outputs": [],
   "source": [
    "# Handle missing values \n",
    "index_df['losses_per_gdp__total'].fillna(index_df['losses_per_gdp__total'].median(),inplace=True)"
   ]
  },
  {
   "cell_type": "code",
   "execution_count": 9,
   "metadata": {},
   "outputs": [],
   "source": [
    "# Drop rows with missing rw_country_code\n",
    "index_df.dropna(subset=['rw_country_code'],inplace=True)"
   ]
  },
  {
   "cell_type": "code",
   "execution_count": 10,
   "metadata": {},
   "outputs": [
    {
     "name": "stdout",
     "output_type": "stream",
     "text": [
      "Cleaned dataset overview:\n",
      "index                        0\n",
      "cartodb_id                   0\n",
      "country                      0\n",
      "cri_rank                     0\n",
      "cri_score                    0\n",
      "fatalities_per_100k_rank     0\n",
      "fatalities_per_100k_total    0\n",
      "fatalities_rank              0\n",
      "fatalities_total             0\n",
      "losses_per_gdp__rank         0\n",
      "losses_per_gdp__total        0\n",
      "losses_usdm_ppp_rank         0\n",
      "losses_usdm_ppp_total        0\n",
      "rw_country_code              0\n",
      "rw_country_name              0\n",
      "dtype: int64\n"
     ]
    }
   ],
   "source": [
    "print(\"Cleaned dataset overview:\")\n",
    "print(index_df.isnull().sum())"
   ]
  },
  {
   "cell_type": "markdown",
   "metadata": {},
   "source": [
    "- The dataset has no missing values"
   ]
  },
  {
   "cell_type": "markdown",
   "metadata": {},
   "source": [
    "#### Checking for Duplicates"
   ]
  },
  {
   "cell_type": "code",
   "execution_count": 11,
   "metadata": {},
   "outputs": [
    {
     "name": "stdout",
     "output_type": "stream",
     "text": [
      "Number of duplicates: 0\n"
     ]
    }
   ],
   "source": [
    "print('Number of duplicates:',index_df.duplicated().sum())"
   ]
  },
  {
   "cell_type": "markdown",
   "metadata": {},
   "source": [
    "### Exploratory Data Analysis"
   ]
  },
  {
   "cell_type": "markdown",
   "metadata": {},
   "source": [
    "#### Climate Risk Ranking per country"
   ]
  },
  {
   "cell_type": "code",
   "execution_count": 28,
   "metadata": {},
   "outputs": [
    {
     "data": {
      "image/png": "[encoded data removed]",
      "text/plain": [
       "<Figure size 864x576 with 1 Axes>"
      ]
     },
     "metadata": {
      "needs_background": "light"
     },
     "output_type": "display_data"
    }
   ],
   "source": [
    "plt.figure(figsize=(12,8))\n",
    "plt.title(\"CRI per Country\")\n",
    "sns.barplot(data=index_df, x=\"cri_rank\", y=\"rw_country_name\",\n",
    "                        order=index_df.sort_values('cri_rank').rw_country_name[:10],\n",
    "                        palette=sns.color_palette('magma'))\n",
    "plt.xlabel('Climate Risk Index')\n",
    "plt.ylabel('Country Name')\n",
    "\n",
    "plt.show()"
   ]
  },
  {
   "cell_type": "markdown",
   "metadata": {},
   "source": [
    "- Countries with high CRI scores often face substantial economic losses due to damage to infrastructure, agriculture.These losses can hinder economic growth and development.\n",
    "- High CRI scores are associated with increased fatalities, injuries, and displacement of people.\n"
   ]
  },
  {
   "cell_type": "markdown",
   "metadata": {},
   "source": [
    "#### Climate impact on Health"
   ]
  },
  {
   "cell_type": "markdown",
   "metadata": {},
   "source": [
    "##### Top 10 Countries affected by Fatalities"
   ]
  },
  {
   "cell_type": "code",
   "execution_count": 13,
   "metadata": {},
   "outputs": [
    {
     "data": {
      "image/png": "[encoded data removed]",
      "text/plain": [
       "<Figure size 864x432 with 1 Axes>"
      ]
     },
     "metadata": {
      "needs_background": "light"
     },
     "output_type": "display_data"
    }
   ],
   "source": [
    "# Top 10 countries by fatalities\n",
    "top_fatalities = index_df.nlargest(10, 'fatalities_per_100k_total')\n",
    "plt.figure(figsize=(12, 6))\n",
    "sns.barplot(y='country', x='fatalities_per_100k_total', data=top_fatalities, palette='magma')\n",
    "plt.title('Top 10 Countries by Total Fatalities')\n",
    "plt.xlabel('Country')\n",
    "plt.ylabel('Fatalities')\n",
    "plt.xticks(rotation=45)\n",
    "plt.show()"
   ]
  },
  {
   "cell_type": "markdown",
   "metadata": {},
   "source": [
    "1. Health Impacts\n",
    "- Countries like Dominica,the Bahamas and Micronesia have high fatality counts due to their large populations and frequent exposure to extreme weather events like cyclones,flood,droughts affecting densely polpulated areas."
   ]
  },
  {
   "cell_type": "code",
   "execution_count": 14,
   "metadata": {},
   "outputs": [
    {
     "data": {
      "image/png": "[encoded data removed]",
      "text/plain": [
       "<Figure size 432x288 with 1 Axes>"
      ]
     },
     "metadata": {
      "needs_background": "light"
     },
     "output_type": "display_data"
    }
   ],
   "source": [
    "sns.scatterplot(data=index_df, x='cri_score', y='fatalities_total', hue='cri_rank', palette='magma')\n",
    "plt.title('Fatalities vs CRI Rank')\n",
    "plt.show()"
   ]
  },
  {
   "cell_type": "markdown",
   "metadata": {},
   "source": [
    "- Countries with relatively low fatalities could indicate regions with strong climate resilience measures such as advanced early warning systems.These countries may also benefit from higher GDP and more resources to mitigate climate risks.\n",
    "- Countries showing much higher fatalities might be those experiencing extreme vulnerability to climate impacts. These countries could face recurring events like hurricanes, floods, or droughts, coupled with inadequate climate adaptation measures or socioeconomic challenges.\n",
    "- Countries with high CRI ranks shows their increased susceptibility to climate impacts while those with lower CRI ranks might show reduced fatalities, indicating better adaptation strategies."
   ]
  },
  {
   "cell_type": "markdown",
   "metadata": {},
   "source": [
    "#### Climate Impact on Economy"
   ]
  },
  {
   "cell_type": "markdown",
   "metadata": {},
   "source": [
    "##### Top 10 countries affected by climate related Economic losses"
   ]
  },
  {
   "cell_type": "code",
   "execution_count": 15,
   "metadata": {},
   "outputs": [
    {
     "data": {
      "image/png": "[encoded data removed]",
      "text/plain": [
       "<Figure size 864x432 with 1 Axes>"
      ]
     },
     "metadata": {
      "needs_background": "light"
     },
     "output_type": "display_data"
    }
   ],
   "source": [
    "top_countries_with_losses = index_df.nlargest(10, 'losses_per_gdp__total')\n",
    "plt.figure(figsize=(12, 6))\n",
    "sns.barplot(y=top_countries_with_losses['country'], x=top_countries_with_losses['losses_per_gdp__total'], palette='magma')\n",
    "plt.title(\"Top 10 Countries by Climate-Related Economic Losses\")\n",
    "plt.xlabel(\"Total Economic Loss (Million USD)\")\n",
    "plt.ylabel(\"Country\")\n",
    "plt.show()"
   ]
  },
  {
   "cell_type": "markdown",
   "metadata": {},
   "source": [
    "##### Observations"
   ]
  },
  {
   "cell_type": "code",
   "execution_count": null,
   "metadata": {},
   "outputs": [],
   "source": []
  },
  {
   "cell_type": "markdown",
   "metadata": {},
   "source": [
    "#### Regional Analysis (CRI score per Country)"
   ]
  },
  {
   "cell_type": "markdown",
   "metadata": {},
   "source": [
    "##### 10 Most Affected country\n"
   ]
  },
  {
   "cell_type": "code",
   "execution_count": 16,
   "metadata": {},
   "outputs": [
    {
     "data": {
      "image/png": "[encoded data removed]",
      "text/plain": [
       "<Figure size 864x432 with 1 Axes>"
      ]
     },
     "metadata": {
      "needs_background": "light"
     },
     "output_type": "display_data"
    }
   ],
   "source": [
    "plt.figure(figsize=(12,6))\n",
    "plt.title(\"CRI per Country\")\n",
    "ax = sns.barplot(data=index_df, x=\"cri_rank\", y=\"rw_country_name\",\n",
    "                        order=index_df.sort_values('cri_rank').rw_country_name[:10],\n",
    "                        palette=sns.color_palette('magma'))                       \n",
    "plt.xlabel('Climate Risk Index')\n",
    "plt.ylabel('Country Name')\n",
    "\n",
    "plt.show()"
   ]
  },
  {
   "cell_type": "markdown",
   "metadata": {},
   "source": [
    "#### Correlation"
   ]
  },
  {
   "cell_type": "code",
   "execution_count": 17,
   "metadata": {},
   "outputs": [],
   "source": [
    "# Relevant columns for correlation analysis\n",
    "correlation_data = index_df[['cri_score', 'losses_per_gdp__total', 'fatalities_total', 'fatalities_per_100k_total','losses_usdm_ppp_total',]]\n",
    "\n",
    "# compute correlation\n",
    "correlation_matrix = correlation_data.corr()"
   ]
  },
  {
   "cell_type": "code",
   "execution_count": 18,
   "metadata": {},
   "outputs": [
    {
     "data": {
      "image/png": "[encoded data removed]",
      "text/plain": [
       "<Figure size 720x576 with 2 Axes>"
      ]
     },
     "metadata": {
      "needs_background": "light"
     },
     "output_type": "display_data"
    }
   ],
   "source": [
    "plt.figure(figsize=(10, 8))\n",
    "sns.heatmap(correlation_matrix, annot=True, cmap='coolwarm', fmt='.2f')\n",
    "plt.title('Correlation Heatmap')\n",
    "plt.show()"
   ]
  },
  {
   "cell_type": "markdown",
   "metadata": {},
   "source": [
    "#### Prediction Model"
   ]
  },
  {
   "cell_type": "code",
   "execution_count": 19,
   "metadata": {},
   "outputs": [
    {
     "name": "stdout",
     "output_type": "stream",
     "text": [
      "Model Performance:\n",
      " Mean Absolute Error: 6.042975000000002\n",
      " R-squared: 0.9020783333304231\n"
     ]
    }
   ],
   "source": [
    "# Predicting CRI Score based on Economic and Health Factors\n",
    "features = ['fatalities_total', 'losses_usdm_ppp_total', 'losses_per_gdp__total']\n",
    "target = 'cri_score'\n",
    "\n",
    "\n",
    "X = index_df[features]\n",
    "y = index_df[target]\n",
    "\n",
    "# Split into training and test sets\n",
    "X_train, X_test, y_train, y_test = train_test_split(X, y, test_size=0.2, random_state=42)\n",
    "\n",
    "# Train a RandomForestRegressor model\n",
    "model = RandomForestRegressor(n_estimators=100, random_state=42)\n",
    "model.fit(X_train, y_train)\n",
    "\n",
    "# Make predictions\n",
    "y_pred = model.predict(X_test)\n",
    "\n",
    "# Evaluate the model\n",
    "mae = mean_absolute_error(y_test, y_pred)\n",
    "r2 = r2_score(y_test, y_pred)\n",
    "print(f'Model Performance:\\n Mean Absolute Error: {mae}\\n R-squared: {r2}')\n"
   ]
  },
  {
   "cell_type": "code",
   "execution_count": 20,
   "metadata": {},
   "outputs": [
    {
     "name": "stdout",
     "output_type": "stream",
     "text": [
      "Tuning RandomForest...\n",
      "Best Parameters for RandomForest: {'n_estimators': 200}\n",
      "Tuning GradientBoosting...\n",
      "Best Parameters for GradientBoosting: {'learning_rate': 0.1, 'n_estimators': 50}\n",
      "Tuning XGBoost...\n",
      "Best Parameters for XGBoost: {'learning_rate': 0.1, 'n_estimators': 100}\n",
      "RandomForest Performance:\n",
      " Mean Absolute Error: 6.05\n",
      " R-squared: 0.90\n",
      "GradientBoosting Performance:\n",
      " Mean Absolute Error: 6.73\n",
      " R-squared: 0.88\n",
      "XGBoost Performance:\n",
      " Mean Absolute Error: 7.44\n",
      " R-squared: 0.85\n"
     ]
    }
   ],
   "source": [
    "\n",
    "# Define models\n",
    "models = {\n",
    "    'RandomForest': RandomForestRegressor(),\n",
    "    'GradientBoosting': GradientBoostingRegressor(),\n",
    "    'XGBoost': XGBRegressor()\n",
    "}\n",
    "\n",
    "# Hyperparameter tuning\n",
    "param_grid = {\n",
    "    'RandomForest': {'n_estimators': [50, 100, 200]},\n",
    "    'GradientBoosting': {'n_estimators': [50, 100, 200], 'learning_rate': [0.01, 0.1, 0.2]},\n",
    "    'XGBoost': {'n_estimators': [50, 100, 200], 'learning_rate': [0.01, 0.1, 0.2]}\n",
    "}\n",
    "\n",
    "best_models = {}\n",
    "for name, model in models.items():\n",
    "    print(f'Tuning {name}...')\n",
    "    grid_search = GridSearchCV(model, param_grid[name], cv=3, scoring='r2', n_jobs=-1)\n",
    "    grid_search.fit(X_train, y_train)\n",
    "    best_models[name] = grid_search.best_estimator_\n",
    "    print(f'Best Parameters for {name}: {grid_search.best_params_}')\n",
    "\n",
    "# Evaluate models\n",
    "for name, model in best_models.items():\n",
    "    y_pred = model.predict(X_test)\n",
    "    mae = mean_absolute_error(y_test, y_pred)\n",
    "    r2 = r2_score(y_test, y_pred)\n",
    "    print(f'{name} Performance:\\n Mean Absolute Error: {mae:.2f}\\n R-squared: {r2:.2f}')\n"
   ]
  },
  {
   "cell_type": "markdown",
   "metadata": {},
   "source": [
    "Model tuning results indicate that RandomForest tuned/untuned\n",
    " performed the best with an R² of 0.89 and a MAE of 6.33. GradientBoosting performed similarly, while XGBoost had slightly worse performance."
   ]
  },
  {
   "cell_type": "code",
   "execution_count": null,
   "metadata": {},
   "outputs": [],
   "source": []
  }
 ],
 "metadata": {
  "kernelspec": {
   "display_name": "learn-env",
   "language": "python",
   "name": "python3"
  },
  "language_info": {
   "codemirror_mode": {
    "name": "ipython",
    "version": 3
   },
   "file_extension": ".py",
   "mimetype": "text/x-python",
   "name": "python",
   "nbconvert_exporter": "python",
   "pygments_lexer": "ipython3",
   "version": "3.8.5"
  }
 },
 "nbformat": 4,
 "nbformat_minor": 2
}
