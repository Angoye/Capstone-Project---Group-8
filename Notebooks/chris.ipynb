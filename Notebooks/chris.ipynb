{
 "cells": [
  {
   "cell_type": "markdown",
   "metadata": {},
   "source": [
    "# Climate change indicators\n"
   ]
  },
  {
   "cell_type": "markdown",
   "metadata": {},
   "source": []
  },
  {
   "cell_type": "code",
   "execution_count": 84,
   "metadata": {},
   "outputs": [
    {
     "name": "stdout",
     "output_type": "stream",
     "text": [
      "Requirement already satisfied: prophet in c:\\users\\chris.mutuku\\appdata\\local\\anaconda3\\lib\\site-packages (1.1.6)\n",
      "Requirement already satisfied: cmdstanpy>=1.0.4 in c:\\users\\chris.mutuku\\appdata\\local\\anaconda3\\lib\\site-packages (from prophet) (1.2.5)\n",
      "Requirement already satisfied: numpy>=1.15.4 in c:\\users\\chris.mutuku\\appdata\\local\\anaconda3\\lib\\site-packages (from prophet) (1.26.4)\n",
      "Requirement already satisfied: matplotlib>=2.0.0 in c:\\users\\chris.mutuku\\appdata\\local\\anaconda3\\lib\\site-packages (from prophet) (3.10.0)\n",
      "Requirement already satisfied: pandas>=1.0.4 in c:\\users\\chris.mutuku\\appdata\\local\\anaconda3\\lib\\site-packages (from prophet) (2.2.2)\n",
      "Requirement already satisfied: holidays<1,>=0.25 in c:\\users\\chris.mutuku\\appdata\\local\\anaconda3\\lib\\site-packages (from prophet) (0.66)\n",
      "Requirement already satisfied: tqdm>=4.36.1 in c:\\users\\chris.mutuku\\appdata\\local\\anaconda3\\lib\\site-packages (from prophet) (4.66.4)\n",
      "Requirement already satisfied: importlib-resources in c:\\users\\chris.mutuku\\appdata\\local\\anaconda3\\lib\\site-packages (from prophet) (6.5.2)\n",
      "Requirement already satisfied: stanio<2.0.0,>=0.4.0 in c:\\users\\chris.mutuku\\appdata\\local\\anaconda3\\lib\\site-packages (from cmdstanpy>=1.0.4->prophet) (0.5.1)\n",
      "Requirement already satisfied: python-dateutil in c:\\users\\chris.mutuku\\appdata\\local\\anaconda3\\lib\\site-packages (from holidays<1,>=0.25->prophet) (2.9.0.post0)\n",
      "Requirement already satisfied: contourpy>=1.0.1 in c:\\users\\chris.mutuku\\appdata\\local\\anaconda3\\lib\\site-packages (from matplotlib>=2.0.0->prophet) (1.2.0)\n",
      "Requirement already satisfied: cycler>=0.10 in c:\\users\\chris.mutuku\\appdata\\local\\anaconda3\\lib\\site-packages (from matplotlib>=2.0.0->prophet) (0.11.0)\n",
      "Requirement already satisfied: fonttools>=4.22.0 in c:\\users\\chris.mutuku\\appdata\\local\\anaconda3\\lib\\site-packages (from matplotlib>=2.0.0->prophet) (4.51.0)\n",
      "Requirement already satisfied: kiwisolver>=1.3.1 in c:\\users\\chris.mutuku\\appdata\\local\\anaconda3\\lib\\site-packages (from matplotlib>=2.0.0->prophet) (1.4.4)\n",
      "Requirement already satisfied: packaging>=20.0 in c:\\users\\chris.mutuku\\appdata\\local\\anaconda3\\lib\\site-packages (from matplotlib>=2.0.0->prophet) (23.2)\n",
      "Requirement already satisfied: pillow>=8 in c:\\users\\chris.mutuku\\appdata\\local\\anaconda3\\lib\\site-packages (from matplotlib>=2.0.0->prophet) (10.3.0)\n",
      "Requirement already satisfied: pyparsing>=2.3.1 in c:\\users\\chris.mutuku\\appdata\\local\\anaconda3\\lib\\site-packages (from matplotlib>=2.0.0->prophet) (3.0.9)\n",
      "Requirement already satisfied: pytz>=2020.1 in c:\\users\\chris.mutuku\\appdata\\local\\anaconda3\\lib\\site-packages (from pandas>=1.0.4->prophet) (2024.1)\n",
      "Requirement already satisfied: tzdata>=2022.7 in c:\\users\\chris.mutuku\\appdata\\local\\anaconda3\\lib\\site-packages (from pandas>=1.0.4->prophet) (2023.3)\n",
      "Requirement already satisfied: colorama in c:\\users\\chris.mutuku\\appdata\\local\\anaconda3\\lib\\site-packages (from tqdm>=4.36.1->prophet) (0.4.6)\n",
      "Requirement already satisfied: six>=1.5 in c:\\users\\chris.mutuku\\appdata\\local\\anaconda3\\lib\\site-packages (from python-dateutil->holidays<1,>=0.25->prophet) (1.16.0)\n",
      "Note: you may need to restart the kernel to use updated packages.\n"
     ]
    }
   ],
   "source": [
    "pip install prophet"
   ]
  },
  {
   "cell_type": "code",
   "execution_count": 85,
   "metadata": {},
   "outputs": [],
   "source": [
    "import pandas as pd\n",
    "\n",
    "# File paths\n",
    "file_path1 = r\"C:\\Users\\chris.mutuku\\OneDrive - Skanem AS\\Desktop\\CAPSTONE PROJECT\\Capstone-Project---Group-8\\Data\\Climate Change - datasets\\all countries global temperature.csv\"\n",
    "file_path2 = r\"C:\\Users\\chris.mutuku\\OneDrive - Skanem AS\\Desktop\\CAPSTONE PROJECT\\Capstone-Project---Group-8\\Data\\Climate Change - datasets\\Average Surface Temperature.csv\"\n"
   ]
  },
  {
   "cell_type": "code",
   "execution_count": 86,
   "metadata": {},
   "outputs": [
    {
     "name": "stdout",
     "output_type": "stream",
     "text": [
      "Data from 'all countries global temperature.csv':\n",
      "  ï»¿ObjectId,Country Name,Unit,Change ,1970,1971,1972,1973,1974,1975,1976,1977,1978,1979,1980,1981,1982,1983,1984,1985,1986,1987,1988,1989,1990,1991,1992,1993,1994,1995,1996,1997,1998,1999,2000,2001,2002,2003,2004,2005,2006,2007,2008,2009,2010,2011,2012,2013,2014,2015,2016,2017,2018,2019,2020,2021\n",
      "0  1,\"Afghanistan, Islamic Rep. of\",Degree Celsiu...                                                                                                                                                                                                                                                       \n",
      "1  2,Albania,Degree Celsius,Surface Temperature C...                                                                                                                                                                                                                                                       \n",
      "2  3,Algeria,Degree Celsius,Surface Temperature C...                                                                                                                                                                                                                                                       \n",
      "3  4,American Samoa,Degree Celsius,Surface Temper...                                                                                                                                                                                                                                                       \n",
      "4  5,\"Andorra, Principality of\",Degree Celsius,Su...                                                                                                                                                                                                                                                       \n",
      "\n",
      "Data from 'Average Surface Temperature.csv':\n",
      "        Entity Code  year        Day  Average surface temperature  \\\n",
      "0  Afghanistan  AFG  1940  1/15/1940                    -2.032494   \n",
      "1  Afghanistan  AFG  1940  2/15/1940                    -0.733503   \n",
      "2  Afghanistan  AFG  1940  3/15/1940                     1.999134   \n",
      "3  Afghanistan  AFG  1940  4/15/1940                    10.199754   \n",
      "4  Afghanistan  AFG  1940  5/15/1940                    17.942135   \n",
      "\n",
      "   Average surface temperature.1  \n",
      "0                      11.327695  \n",
      "1                      11.327695  \n",
      "2                      11.327695  \n",
      "3                      11.327695  \n",
      "4                      11.327695  \n"
     ]
    }
   ],
   "source": [
    "# Display the first few rows of each dataframe\n",
    "print(\"Data from 'all countries global temperature.csv':\")\n",
    "print(df1.head())\n",
    "\n",
    "print(\"\\nData from 'Average Surface Temperature.csv':\")\n",
    "print(df2.head())"
   ]
  },
  {
   "cell_type": "code",
   "execution_count": 87,
   "metadata": {},
   "outputs": [],
   "source": [
    "df1 = pd.read_csv(file_path1, sep=';', encoding='latin1')"
   ]
  },
  {
   "cell_type": "markdown",
   "metadata": {},
   "source": [
    "### Inspecting the dataset \n"
   ]
  },
  {
   "cell_type": "code",
   "execution_count": 88,
   "metadata": {},
   "outputs": [
    {
     "name": "stdout",
     "output_type": "stream",
     "text": [
      "Dataset 1 Info:\n",
      "<class 'pandas.core.frame.DataFrame'>\n",
      "RangeIndex: 227 entries, 0 to 226\n",
      "Data columns (total 1 columns):\n",
      " #   Column                                                                                                                                                                                                                                                                                                     Non-Null Count  Dtype \n",
      "---  ------                                                                                                                                                                                                                                                                                                     --------------  ----- \n",
      " 0   ï»¿ObjectId,Country Name,Unit,Change ,1970,1971,1972,1973,1974,1975,1976,1977,1978,1979,1980,1981,1982,1983,1984,1985,1986,1987,1988,1989,1990,1991,1992,1993,1994,1995,1996,1997,1998,1999,2000,2001,2002,2003,2004,2005,2006,2007,2008,2009,2010,2011,2012,2013,2014,2015,2016,2017,2018,2019,2020,2021  227 non-null    object\n",
      "dtypes: object(1)\n",
      "memory usage: 1.9+ KB\n",
      "None\n",
      "\n",
      "Dataset 2 Info:\n",
      "<class 'pandas.core.frame.DataFrame'>\n",
      "RangeIndex: 199290 entries, 0 to 199289\n",
      "Data columns (total 6 columns):\n",
      " #   Column                         Non-Null Count   Dtype  \n",
      "---  ------                         --------------   -----  \n",
      " 0   Entity                         199290 non-null  object \n",
      " 1   Code                           199290 non-null  object \n",
      " 2   year                           199290 non-null  int64  \n",
      " 3   Day                            199290 non-null  object \n",
      " 4   Average surface temperature    199290 non-null  float64\n",
      " 5   Average surface temperature.1  199290 non-null  float64\n",
      "dtypes: float64(2), int64(1), object(3)\n",
      "memory usage: 9.1+ MB\n",
      "None\n",
      "\n",
      "Dataset 1 Head:\n",
      "  ï»¿ObjectId,Country Name,Unit,Change ,1970,1971,1972,1973,1974,1975,1976,1977,1978,1979,1980,1981,1982,1983,1984,1985,1986,1987,1988,1989,1990,1991,1992,1993,1994,1995,1996,1997,1998,1999,2000,2001,2002,2003,2004,2005,2006,2007,2008,2009,2010,2011,2012,2013,2014,2015,2016,2017,2018,2019,2020,2021\n",
      "0  1,\"Afghanistan, Islamic Rep. of\",Degree Celsiu...                                                                                                                                                                                                                                                       \n",
      "1  2,Albania,Degree Celsius,Surface Temperature C...                                                                                                                                                                                                                                                       \n",
      "2  3,Algeria,Degree Celsius,Surface Temperature C...                                                                                                                                                                                                                                                       \n",
      "3  4,American Samoa,Degree Celsius,Surface Temper...                                                                                                                                                                                                                                                       \n",
      "4  5,\"Andorra, Principality of\",Degree Celsius,Su...                                                                                                                                                                                                                                                       \n",
      "\n",
      "Dataset 2 Head:\n",
      "        Entity Code  year        Day  Average surface temperature  \\\n",
      "0  Afghanistan  AFG  1940  1/15/1940                    -2.032494   \n",
      "1  Afghanistan  AFG  1940  2/15/1940                    -0.733503   \n",
      "2  Afghanistan  AFG  1940  3/15/1940                     1.999134   \n",
      "3  Afghanistan  AFG  1940  4/15/1940                    10.199754   \n",
      "4  Afghanistan  AFG  1940  5/15/1940                    17.942135   \n",
      "\n",
      "   Average surface temperature.1  \n",
      "0                      11.327695  \n",
      "1                      11.327695  \n",
      "2                      11.327695  \n",
      "3                      11.327695  \n",
      "4                      11.327695  \n",
      "\n",
      "Missing values in Dataset 1:\n",
      "ï»¿ObjectId,Country Name,Unit,Change ,1970,1971,1972,1973,1974,1975,1976,1977,1978,1979,1980,1981,1982,1983,1984,1985,1986,1987,1988,1989,1990,1991,1992,1993,1994,1995,1996,1997,1998,1999,2000,2001,2002,2003,2004,2005,2006,2007,2008,2009,2010,2011,2012,2013,2014,2015,2016,2017,2018,2019,2020,2021    0\n",
      "dtype: int64\n",
      "\n",
      "Missing values in Dataset 2:\n",
      "Entity                           0\n",
      "Code                             0\n",
      "year                             0\n",
      "Day                              0\n",
      "Average surface temperature      0\n",
      "Average surface temperature.1    0\n",
      "dtype: int64\n"
     ]
    }
   ],
   "source": [
    "# Display basic information about the datasets\n",
    "print(\"Dataset 1 Info:\")\n",
    "print(df1.info())\n",
    "print(\"\\nDataset 2 Info:\")\n",
    "print(df2.info())\n",
    "\n",
    "# Display the first few rows of each dataset\n",
    "print(\"\\nDataset 1 Head:\")\n",
    "print(df1.head())\n",
    "print(\"\\nDataset 2 Head:\")\n",
    "print(df2.head())\n",
    "\n",
    "# Check for missing values\n",
    "print(\"\\nMissing values in Dataset 1:\")\n",
    "print(df1.isnull().sum())\n",
    "print(\"\\nMissing values in Dataset 2:\")\n",
    "print(df2.isnull().sum())"
   ]
  },
  {
   "cell_type": "markdown",
   "metadata": {},
   "source": [
    "### Summary Statistics"
   ]
  },
  {
   "cell_type": "code",
   "execution_count": 89,
   "metadata": {},
   "outputs": [
    {
     "name": "stdout",
     "output_type": "stream",
     "text": [
      "Summary statistics for Dataset 1:\n",
      "       ï»¿ObjectId,Country Name,Unit,Change ,1970,1971,1972,1973,1974,1975,1976,1977,1978,1979,1980,1981,1982,1983,1984,1985,1986,1987,1988,1989,1990,1991,1992,1993,1994,1995,1996,1997,1998,1999,2000,2001,2002,2003,2004,2005,2006,2007,2008,2009,2010,2011,2012,2013,2014,2015,2016,2017,2018,2019,2020,2021\n",
      "count                                                 227                                                                                                                                                                                                                                                       \n",
      "unique                                                227                                                                                                                                                                                                                                                       \n",
      "top     1,\"Afghanistan, Islamic Rep. of\",Degree Celsiu...                                                                                                                                                                                                                                                       \n",
      "freq                                                    1                                                                                                                                                                                                                                                       \n",
      "\n",
      "Summary statistics for Dataset 2:\n",
      "                year  Average surface temperature  \\\n",
      "count  199290.000000                199290.000000   \n",
      "mean     1982.084149                    18.066105   \n",
      "std        24.585286                    10.251394   \n",
      "min      1940.000000                   -36.240032   \n",
      "25%      1961.000000                    12.287746   \n",
      "50%      1982.000000                    22.053738   \n",
      "75%      2003.000000                    25.317117   \n",
      "max      2025.000000                    39.889374   \n",
      "\n",
      "       Average surface temperature.1  \n",
      "count                  199290.000000  \n",
      "mean                       18.075053  \n",
      "std                         8.710005  \n",
      "min                       -21.529121  \n",
      "25%                        10.572247  \n",
      "50%                        21.858255  \n",
      "75%                        25.143888  \n",
      "max                        29.794220  \n"
     ]
    }
   ],
   "source": [
    "# Summary statistics for Dataset 1\n",
    "print(\"Summary statistics for Dataset 1:\")\n",
    "print(df1.describe())\n",
    "\n",
    "# Summary statistics for Dataset 2\n",
    "print(\"\\nSummary statistics for Dataset 2:\")\n",
    "print(df2.describe())"
   ]
  },
  {
   "cell_type": "markdown",
   "metadata": {},
   "source": [
    "### Visualizing the Data"
   ]
  },
  {
   "cell_type": "code",
   "execution_count": 90,
   "metadata": {},
   "outputs": [
    {
     "name": "stdout",
     "output_type": "stream",
     "text": [
      "Index(['ï»¿ObjectId,Country Name,Unit,Change ,1970,1971,1972,1973,1974,1975,1976,1977,1978,1979,1980,1981,1982,1983,1984,1985,1986,1987,1988,1989,1990,1991,1992,1993,1994,1995,1996,1997,1998,1999,2000,2001,2002,2003,2004,2005,2006,2007,2008,2009,2010,2011,2012,2013,2014,2015,2016,2017,2018,2019,2020,2021'], dtype='object')\n"
     ]
    }
   ],
   "source": [
    "print(df1.columns)\n"
   ]
  },
  {
   "cell_type": "code",
   "execution_count": 91,
   "metadata": {},
   "outputs": [],
   "source": [
    "df1.columns = df1.columns.str.strip()\n"
   ]
  },
  {
   "cell_type": "code",
   "execution_count": 92,
   "metadata": {},
   "outputs": [
    {
     "name": "stdout",
     "output_type": "stream",
     "text": [
      "['ï»¿ObjectId,Country Name,Unit,Change ,1970,1971,1972,1973,1974,1975,1976,1977,1978,1979,1980,1981,1982,1983,1984,1985,1986,1987,1988,1989,1990,1991,1992,1993,1994,1995,1996,1997,1998,1999,2000,2001,2002,2003,2004,2005,2006,2007,2008,2009,2010,2011,2012,2013,2014,2015,2016,2017,2018,2019,2020,2021']\n"
     ]
    }
   ],
   "source": [
    "print([col for col in df1.columns if 'change' in col.lower()])\n"
   ]
  },
  {
   "cell_type": "code",
   "execution_count": 93,
   "metadata": {},
   "outputs": [
    {
     "name": "stdout",
     "output_type": "stream",
     "text": [
      "  ï»¿ObjectId,Country Name,Unit,Change ,1970,1971,1972,1973,1974,1975,1976,1977,1978,1979,1980,1981,1982,1983,1984,1985,1986,1987,1988,1989,1990,1991,1992,1993,1994,1995,1996,1997,1998,1999,2000,2001,2002,2003,2004,2005,2006,2007,2008,2009,2010,2011,2012,2013,2014,2015,2016,2017,2018,2019,2020,2021\n",
      "0  1,\"Afghanistan, Islamic Rep. of\",Degree Celsiu...                                                                                                                                                                                                                                                       \n",
      "1  2,Albania,Degree Celsius,Surface Temperature C...                                                                                                                                                                                                                                                       \n",
      "2  3,Algeria,Degree Celsius,Surface Temperature C...                                                                                                                                                                                                                                                       \n",
      "3  4,American Samoa,Degree Celsius,Surface Temper...                                                                                                                                                                                                                                                       \n",
      "4  5,\"Andorra, Principality of\",Degree Celsius,Su...                                                                                                                                                                                                                                                       \n"
     ]
    }
   ],
   "source": [
    "print(df1.head())"
   ]
  },
  {
   "cell_type": "code",
   "execution_count": 94,
   "metadata": {},
   "outputs": [],
   "source": [
    "df1.rename(columns={'Temperature Change': 'Change'}, inplace=True)\n"
   ]
  },
  {
   "cell_type": "code",
   "execution_count": 95,
   "metadata": {},
   "outputs": [],
   "source": [
    "df1 = pd.read_csv(file_path1, sep=';', encoding='latin1')\n"
   ]
  },
  {
   "cell_type": "code",
   "execution_count": 96,
   "metadata": {},
   "outputs": [
    {
     "name": "stdout",
     "output_type": "stream",
     "text": [
      "\n",
      "Available columns in Dataset 1: Index(['ï»¿ObjectId,Country Name,Unit,Change ,1970,1971,1972,1973,1974,1975,1976,1977,1978,1979,1980,1981,1982,1983,1984,1985,1986,1987,1988,1989,1990,1991,1992,1993,1994,1995,1996,1997,1998,1999,2000,2001,2002,2003,2004,2005,2006,2007,2008,2009,2010,2011,2012,2013,2014,2015,2016,2017,2018,2019,2020,2021'], dtype='object')\n",
      "\n",
      "Columns containing 'change': ['ï»¿ObjectId,Country Name,Unit,Change ,1970,1971,1972,1973,1974,1975,1976,1977,1978,1979,1980,1981,1982,1983,1984,1985,1986,1987,1988,1989,1990,1991,1992,1993,1994,1995,1996,1997,1998,1999,2000,2001,2002,2003,2004,2005,2006,2007,2008,2009,2010,2011,2012,2013,2014,2015,2016,2017,2018,2019,2020,2021']\n"
     ]
    }
   ],
   "source": [
    "# Import necessary libraries\n",
    "import pandas as pd\n",
    "import matplotlib.pyplot as plt\n",
    "import seaborn as sns\n",
    "\n",
    "# Clean column names (remove spaces and standardize)\n",
    "df1.columns = df1.columns.str.strip()\n",
    "df2.columns = df2.columns.str.strip()\n",
    "\n",
    "# Check if the 'Change' column exists in df1\n",
    "print(\"\\nAvailable columns in Dataset 1:\", df1.columns)\n",
    "print(\"\\nColumns containing 'change':\", [col for col in df1.columns if 'change' in col.lower()])\n",
    "\n",
    "# If 'Change' is found under a different name, rename it\n",
    "if 'Temperature Change' in df1.columns:\n",
    "    df1.rename(columns={'Temperature Change': 'Change'}, inplace=True)\n",
    "\n",
    "# Convert 'Change' column to numeric if found\n",
    "if 'Change' in df1.columns:\n",
    "    df1['Change'] = pd.to_numeric(df1['Change'], errors='coerce')\n",
    "\n",
    "# ---------------------- VISUALIZATION ----------------------\n",
    "\n",
    "# 3. Line Plot for Temperature Trends Over the Years\n",
    "years = [col for col in df1.columns if col.isdigit()]  # Check for year columns\n",
    "if years:\n",
    "    temperature_trends = df1[years].mean(axis=0)\n",
    "    plt.figure(figsize=(20, 8))\n",
    "    sns.lineplot(x=years, y=temperature_trends)\n",
    "    plt.title('Average Global Temperature Trends Over Years')\n",
    "    plt.xlabel('Year')\n",
    "    plt.ylabel('Average Temperature (°C)')\n",
    "    plt.xticks(rotation=45)\n",
    "    plt.show()"
   ]
  }
 ],
 "metadata": {
  "kernelspec": {
   "display_name": "base",
   "language": "python",
   "name": "python3"
  },
  "language_info": {
   "codemirror_mode": {
    "name": "ipython",
    "version": 3
   },
   "file_extension": ".py",
   "mimetype": "text/x-python",
   "name": "python",
   "nbconvert_exporter": "python",
   "pygments_lexer": "ipython3",
   "version": "3.12.4"
  }
 },
 "nbformat": 4,
 "nbformat_minor": 2
}
