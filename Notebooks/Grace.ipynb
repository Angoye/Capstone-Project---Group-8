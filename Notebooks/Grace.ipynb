{
 "cells": [
  {
   "cell_type": "code",
   "execution_count": 1,
   "metadata": {},
   "outputs": [],
   "source": [
    "#import libries\n",
    "import pandas as pd\n",
    "import matplotlib.pyplot as plt\n",
    "import seaborn as sns"
   ]
  },
  {
   "cell_type": "code",
   "execution_count": 2,
   "metadata": {},
   "outputs": [
    {
     "data": {
      "text/html": [
       "<div>\n",
       "<style scoped>\n",
       "    .dataframe tbody tr th:only-of-type {\n",
       "        vertical-align: middle;\n",
       "    }\n",
       "\n",
       "    .dataframe tbody tr th {\n",
       "        vertical-align: top;\n",
       "    }\n",
       "\n",
       "    .dataframe thead th {\n",
       "        text-align: right;\n",
       "    }\n",
       "</style>\n",
       "<table border=\"1\" class=\"dataframe\">\n",
       "  <thead>\n",
       "    <tr style=\"text-align: right;\">\n",
       "      <th></th>\n",
       "      <th>Date</th>\n",
       "      <th>Country</th>\n",
       "      <th>Status</th>\n",
       "      <th>AQI Value</th>\n",
       "    </tr>\n",
       "  </thead>\n",
       "  <tbody>\n",
       "    <tr>\n",
       "      <th>0</th>\n",
       "      <td>2022-07-21</td>\n",
       "      <td>Albania</td>\n",
       "      <td>Good</td>\n",
       "      <td>14</td>\n",
       "    </tr>\n",
       "    <tr>\n",
       "      <th>1</th>\n",
       "      <td>2022-07-21</td>\n",
       "      <td>Algeria</td>\n",
       "      <td>Moderate</td>\n",
       "      <td>65</td>\n",
       "    </tr>\n",
       "    <tr>\n",
       "      <th>2</th>\n",
       "      <td>2022-07-21</td>\n",
       "      <td>Andorra</td>\n",
       "      <td>Moderate</td>\n",
       "      <td>55</td>\n",
       "    </tr>\n",
       "    <tr>\n",
       "      <th>3</th>\n",
       "      <td>2022-07-21</td>\n",
       "      <td>Angola</td>\n",
       "      <td>Unhealthy for Sensitive Groups</td>\n",
       "      <td>113</td>\n",
       "    </tr>\n",
       "    <tr>\n",
       "      <th>4</th>\n",
       "      <td>2022-07-21</td>\n",
       "      <td>Argentina</td>\n",
       "      <td>Moderate</td>\n",
       "      <td>63</td>\n",
       "    </tr>\n",
       "    <tr>\n",
       "      <th>...</th>\n",
       "      <td>...</td>\n",
       "      <td>...</td>\n",
       "      <td>...</td>\n",
       "      <td>...</td>\n",
       "    </tr>\n",
       "    <tr>\n",
       "      <th>18116</th>\n",
       "      <td>2025-03-06</td>\n",
       "      <td>United States of America</td>\n",
       "      <td>Moderate</td>\n",
       "      <td>82</td>\n",
       "    </tr>\n",
       "    <tr>\n",
       "      <th>18117</th>\n",
       "      <td>2025-03-06</td>\n",
       "      <td>Uzbekistan</td>\n",
       "      <td>Good</td>\n",
       "      <td>17</td>\n",
       "    </tr>\n",
       "    <tr>\n",
       "      <th>18118</th>\n",
       "      <td>2025-03-06</td>\n",
       "      <td>Vatican</td>\n",
       "      <td>Moderate</td>\n",
       "      <td>65</td>\n",
       "    </tr>\n",
       "    <tr>\n",
       "      <th>18119</th>\n",
       "      <td>2025-03-06</td>\n",
       "      <td>Venezuela</td>\n",
       "      <td>Good</td>\n",
       "      <td>11</td>\n",
       "    </tr>\n",
       "    <tr>\n",
       "      <th>18120</th>\n",
       "      <td>2025-03-06</td>\n",
       "      <td>Vietnam</td>\n",
       "      <td>Moderate</td>\n",
       "      <td>64</td>\n",
       "    </tr>\n",
       "  </tbody>\n",
       "</table>\n",
       "<p>18121 rows × 4 columns</p>\n",
       "</div>"
      ],
      "text/plain": [
       "             Date                   Country                          Status  \\\n",
       "0      2022-07-21                   Albania                            Good   \n",
       "1      2022-07-21                   Algeria                        Moderate   \n",
       "2      2022-07-21                   Andorra                        Moderate   \n",
       "3      2022-07-21                    Angola  Unhealthy for Sensitive Groups   \n",
       "4      2022-07-21                 Argentina                        Moderate   \n",
       "...           ...                       ...                             ...   \n",
       "18116  2025-03-06  United States of America                        Moderate   \n",
       "18117  2025-03-06                Uzbekistan                            Good   \n",
       "18118  2025-03-06                   Vatican                        Moderate   \n",
       "18119  2025-03-06                 Venezuela                            Good   \n",
       "18120  2025-03-06                   Vietnam                        Moderate   \n",
       "\n",
       "       AQI Value  \n",
       "0             14  \n",
       "1             65  \n",
       "2             55  \n",
       "3            113  \n",
       "4             63  \n",
       "...          ...  \n",
       "18116         82  \n",
       "18117         17  \n",
       "18118         65  \n",
       "18119         11  \n",
       "18120         64  \n",
       "\n",
       "[18121 rows x 4 columns]"
      ]
     },
     "execution_count": 2,
     "metadata": {},
     "output_type": "execute_result"
    }
   ],
   "source": [
    "#Read file from the csv as a dataframe and display the data\n",
    "air_quality=pd.read_csv('../data/Climate Change - datasets/Air Quality Index.csv')\n",
    "air_quality"
   ]
  },
  {
   "cell_type": "markdown",
   "metadata": {},
   "source": [
    "### explain column names"
   ]
  },
  {
   "cell_type": "code",
   "execution_count": 3,
   "metadata": {},
   "outputs": [
    {
     "name": "stdout",
     "output_type": "stream",
     "text": [
      "Check the number of rows and columns\n",
      "The dataset has 18121 rows\n",
      "The dataset has 4 columns\n",
      "\n",
      "Check data info\n",
      "<class 'pandas.core.frame.DataFrame'>\n",
      "RangeIndex: 18121 entries, 0 to 18120\n",
      "Data columns (total 4 columns):\n",
      " #   Column     Non-Null Count  Dtype \n",
      "---  ------     --------------  ----- \n",
      " 0   Date       18121 non-null  object\n",
      " 1   Country    18121 non-null  object\n",
      " 2   Status     18121 non-null  object\n",
      " 3   AQI Value  18121 non-null  int64 \n",
      "dtypes: int64(1), object(3)\n",
      "memory usage: 566.4+ KB\n",
      "None\n",
      "\n",
      "\n",
      "Check missing values\n",
      "Date         0\n",
      "Country      0\n",
      "Status       0\n",
      "AQI Value    0\n",
      "dtype: int64\n",
      "\n",
      "\n",
      "Check data statistics (numeric)\n",
      "          AQI Value\n",
      "count  18121.000000\n",
      "mean      63.708515\n",
      "std       50.174970\n",
      "min        1.000000\n",
      "25%       29.000000\n",
      "50%       53.000000\n",
      "75%       83.000000\n",
      "max      963.000000\n",
      "\n",
      "\n",
      "Check data statistics (categorical)\n",
      "              Date Country Status\n",
      "count        18121   18121  18121\n",
      "unique         125     142      6\n",
      "top     2022-07-22   Kenya   Good\n",
      "freq           423     134   8542\n",
      "\n",
      "\n",
      "Check for duplicates\n",
      "Duplicates: 300\n"
     ]
    }
   ],
   "source": [
    "#function to check understand the dataset:\n",
    "def data_understanding(df): \n",
    "    print('Check the number of rows and columns')\n",
    "    print(f'The dataset has {df.shape[0]} rows')\n",
    "    print(f'The dataset has {df.shape[1]} columns\\n')\n",
    "    \n",
    "    print('Check data info')\n",
    "    print(df.info())  # Includes column types and missing values\n",
    "    print('\\n')\n",
    "\n",
    "    print('Check missing values')\n",
    "    print(df.isna().sum())  # Shows missing values per column\n",
    "    print('\\n')\n",
    "\n",
    "    print('Check data statistics (numeric)')\n",
    "    print(df.describe())  # Summary statistics for numerical data\n",
    "    print('\\n')\n",
    "\n",
    "    print('Check data statistics (categorical)')\n",
    "    print(df.describe(include='O'))  # Summary for categorical data\n",
    "    print('\\n')\n",
    "\n",
    "    print('Check for duplicates')\n",
    "    print(f'Duplicates: {df.duplicated().sum()}')  # Number of duplicate rows\n",
    "\n",
    "# Call the function\n",
    "data_understanding(air_quality)\n"
   ]
  },
  {
   "cell_type": "code",
   "execution_count": 4,
   "metadata": {},
   "outputs": [
    {
     "name": "stdout",
     "output_type": "stream",
     "text": [
      "The dataset has 18121 rows\n",
      "The dataset has 4 columns\n"
     ]
    }
   ],
   "source": [
    "print(f'The dataset has {air_quality.shape[0]} rows')\n",
    "print(f'The dataset has {air_quality.shape[1]} columns')"
   ]
  },
  {
   "cell_type": "code",
   "execution_count": 5,
   "metadata": {},
   "outputs": [
    {
     "name": "stdout",
     "output_type": "stream",
     "text": [
      "<class 'pandas.core.frame.DataFrame'>\n",
      "RangeIndex: 18121 entries, 0 to 18120\n",
      "Data columns (total 4 columns):\n",
      " #   Column     Non-Null Count  Dtype \n",
      "---  ------     --------------  ----- \n",
      " 0   Date       18121 non-null  object\n",
      " 1   Country    18121 non-null  object\n",
      " 2   Status     18121 non-null  object\n",
      " 3   AQI Value  18121 non-null  int64 \n",
      "dtypes: int64(1), object(3)\n",
      "memory usage: 566.4+ KB\n"
     ]
    }
   ],
   "source": [
    "#data info\n",
    "air_quality.info()"
   ]
  },
  {
   "cell_type": "markdown",
   "metadata": {},
   "source": [
    "no missing values in the dataset, date is object we will need to convert to date format.coutry and status to be one hot encoded prior to modelling"
   ]
  },
  {
   "cell_type": "code",
   "execution_count": 6,
   "metadata": {},
   "outputs": [
    {
     "data": {
      "text/plain": [
       "Date         0\n",
       "Country      0\n",
       "Status       0\n",
       "AQI Value    0\n",
       "dtype: int64"
      ]
     },
     "execution_count": 6,
     "metadata": {},
     "output_type": "execute_result"
    }
   ],
   "source": [
    "#confirm no missing values\n",
    "air_quality.isna().sum()"
   ]
  },
  {
   "cell_type": "code",
   "execution_count": 7,
   "metadata": {},
   "outputs": [
    {
     "data": {
      "text/html": [
       "<div>\n",
       "<style scoped>\n",
       "    .dataframe tbody tr th:only-of-type {\n",
       "        vertical-align: middle;\n",
       "    }\n",
       "\n",
       "    .dataframe tbody tr th {\n",
       "        vertical-align: top;\n",
       "    }\n",
       "\n",
       "    .dataframe thead th {\n",
       "        text-align: right;\n",
       "    }\n",
       "</style>\n",
       "<table border=\"1\" class=\"dataframe\">\n",
       "  <thead>\n",
       "    <tr style=\"text-align: right;\">\n",
       "      <th></th>\n",
       "      <th>AQI Value</th>\n",
       "    </tr>\n",
       "  </thead>\n",
       "  <tbody>\n",
       "    <tr>\n",
       "      <th>count</th>\n",
       "      <td>18121.000000</td>\n",
       "    </tr>\n",
       "    <tr>\n",
       "      <th>mean</th>\n",
       "      <td>63.708515</td>\n",
       "    </tr>\n",
       "    <tr>\n",
       "      <th>std</th>\n",
       "      <td>50.174970</td>\n",
       "    </tr>\n",
       "    <tr>\n",
       "      <th>min</th>\n",
       "      <td>1.000000</td>\n",
       "    </tr>\n",
       "    <tr>\n",
       "      <th>25%</th>\n",
       "      <td>29.000000</td>\n",
       "    </tr>\n",
       "    <tr>\n",
       "      <th>50%</th>\n",
       "      <td>53.000000</td>\n",
       "    </tr>\n",
       "    <tr>\n",
       "      <th>75%</th>\n",
       "      <td>83.000000</td>\n",
       "    </tr>\n",
       "    <tr>\n",
       "      <th>max</th>\n",
       "      <td>963.000000</td>\n",
       "    </tr>\n",
       "  </tbody>\n",
       "</table>\n",
       "</div>"
      ],
      "text/plain": [
       "          AQI Value\n",
       "count  18121.000000\n",
       "mean      63.708515\n",
       "std       50.174970\n",
       "min        1.000000\n",
       "25%       29.000000\n",
       "50%       53.000000\n",
       "75%       83.000000\n",
       "max      963.000000"
      ]
     },
     "execution_count": 7,
     "metadata": {},
     "output_type": "execute_result"
    }
   ],
   "source": [
    "#check data statistics\n",
    "air_quality.describe()"
   ]
  },
  {
   "cell_type": "markdown",
   "metadata": {},
   "source": [
    "aqi - standardized measure of air pollution levels\n",
    "0–50\tGood\tAir quality is excellent, no health risks.\n",
    "51–100\tModerate\tAcceptable air quality, but some sensitive groups may experience minor issues.\n",
    "101–150\tUnhealthy for Sensitive Groups\tPeople with respiratory issues (asthma, elderly, children) may be affected.\n",
    "151–200\tUnhealthy\tEveryone may start experiencing health effects, sensitive groups more at risk.\n",
    "201–300\tVery Unhealthy\tHealth warnings issued, serious effects on entire population.\n",
    "301+\tHazardous\tEmergency conditions, serious health risks.\n",
    "\n",
    "on average there us moderate aqi levels (53) close to excellent air quality.\n",
    "max is 963 is it an outlier"
   ]
  },
  {
   "cell_type": "code",
   "execution_count": 8,
   "metadata": {},
   "outputs": [
    {
     "name": "stdout",
     "output_type": "stream",
     "text": [
      "India                       17\n",
      "Burkina Faso                 9\n",
      "Iraq                         7\n",
      "Germany                      7\n",
      "United States of America     7\n",
      "Ethiopia                     4\n",
      "China                        4\n",
      "Bangladesh                   4\n",
      "United Arab Emirates         3\n",
      "Kuwait                       3\n",
      "Chad                         3\n",
      "Zambia                       2\n",
      "Netherlands                  2\n",
      "Thailand                     2\n",
      "Myanmar                      2\n",
      "Nepal                        1\n",
      "Chile                        1\n",
      "Gabon                        1\n",
      "Iran                         1\n",
      "Cambodia                     1\n",
      "Uganda                       1\n",
      "Uzbekistan                   1\n",
      "Name: Country, dtype: int64\n"
     ]
    },
    {
     "data": {
      "text/html": [
       "<div>\n",
       "<style scoped>\n",
       "    .dataframe tbody tr th:only-of-type {\n",
       "        vertical-align: middle;\n",
       "    }\n",
       "\n",
       "    .dataframe tbody tr th {\n",
       "        vertical-align: top;\n",
       "    }\n",
       "\n",
       "    .dataframe thead th {\n",
       "        text-align: right;\n",
       "    }\n",
       "</style>\n",
       "<table border=\"1\" class=\"dataframe\">\n",
       "  <thead>\n",
       "    <tr style=\"text-align: right;\">\n",
       "      <th></th>\n",
       "      <th>Date</th>\n",
       "      <th>Country</th>\n",
       "      <th>Status</th>\n",
       "      <th>AQI Value</th>\n",
       "    </tr>\n",
       "  </thead>\n",
       "  <tbody>\n",
       "    <tr>\n",
       "      <th>11120</th>\n",
       "      <td>2023-05-18</td>\n",
       "      <td>Burkina Faso</td>\n",
       "      <td>Hazardous</td>\n",
       "      <td>301</td>\n",
       "    </tr>\n",
       "    <tr>\n",
       "      <th>17067</th>\n",
       "      <td>2025-01-09</td>\n",
       "      <td>India</td>\n",
       "      <td>Hazardous</td>\n",
       "      <td>303</td>\n",
       "    </tr>\n",
       "    <tr>\n",
       "      <th>10706</th>\n",
       "      <td>2023-04-27</td>\n",
       "      <td>Burkina Faso</td>\n",
       "      <td>Hazardous</td>\n",
       "      <td>303</td>\n",
       "    </tr>\n",
       "    <tr>\n",
       "      <th>13899</th>\n",
       "      <td>2024-07-11</td>\n",
       "      <td>United States of America</td>\n",
       "      <td>Hazardous</td>\n",
       "      <td>303</td>\n",
       "    </tr>\n",
       "    <tr>\n",
       "      <th>10287</th>\n",
       "      <td>2023-04-06</td>\n",
       "      <td>Burkina Faso</td>\n",
       "      <td>Hazardous</td>\n",
       "      <td>304</td>\n",
       "    </tr>\n",
       "    <tr>\n",
       "      <th>...</th>\n",
       "      <td>...</td>\n",
       "      <td>...</td>\n",
       "      <td>...</td>\n",
       "      <td>...</td>\n",
       "    </tr>\n",
       "    <tr>\n",
       "      <th>16214</th>\n",
       "      <td>2024-11-21</td>\n",
       "      <td>India</td>\n",
       "      <td>Hazardous</td>\n",
       "      <td>569</td>\n",
       "    </tr>\n",
       "    <tr>\n",
       "      <th>4435</th>\n",
       "      <td>2022-08-16</td>\n",
       "      <td>Iraq</td>\n",
       "      <td>Hazardous</td>\n",
       "      <td>590</td>\n",
       "    </tr>\n",
       "    <tr>\n",
       "      <th>4224</th>\n",
       "      <td>2022-08-14</td>\n",
       "      <td>United Arab Emirates</td>\n",
       "      <td>Hazardous</td>\n",
       "      <td>862</td>\n",
       "    </tr>\n",
       "    <tr>\n",
       "      <th>4365</th>\n",
       "      <td>2022-08-15</td>\n",
       "      <td>United Arab Emirates</td>\n",
       "      <td>Hazardous</td>\n",
       "      <td>868</td>\n",
       "    </tr>\n",
       "    <tr>\n",
       "      <th>10575</th>\n",
       "      <td>2023-04-20</td>\n",
       "      <td>China</td>\n",
       "      <td>Hazardous</td>\n",
       "      <td>963</td>\n",
       "    </tr>\n",
       "  </tbody>\n",
       "</table>\n",
       "<p>83 rows × 4 columns</p>\n",
       "</div>"
      ],
      "text/plain": [
       "             Date                   Country     Status  AQI Value\n",
       "11120  2023-05-18              Burkina Faso  Hazardous        301\n",
       "17067  2025-01-09                     India  Hazardous        303\n",
       "10706  2023-04-27              Burkina Faso  Hazardous        303\n",
       "13899  2024-07-11  United States of America  Hazardous        303\n",
       "10287  2023-04-06              Burkina Faso  Hazardous        304\n",
       "...           ...                       ...        ...        ...\n",
       "16214  2024-11-21                     India  Hazardous        569\n",
       "4435   2022-08-16                      Iraq  Hazardous        590\n",
       "4224   2022-08-14      United Arab Emirates  Hazardous        862\n",
       "4365   2022-08-15      United Arab Emirates  Hazardous        868\n",
       "10575  2023-04-20                     China  Hazardous        963\n",
       "\n",
       "[83 rows x 4 columns]"
      ]
     },
     "execution_count": 8,
     "metadata": {},
     "output_type": "execute_result"
    }
   ],
   "source": [
    "#check airquality > 300  which is harzadeous\n",
    "print(air_quality.query('`AQI Value`>300').sort_values(by='AQI Value')['Country'].value_counts())\n",
    "air_quality.query('`AQI Value`>300').sort_values(by='AQI Value')"
   ]
  },
  {
   "cell_type": "markdown",
   "metadata": {},
   "source": [
    "highest aqi recorded in china, followed by united Emirates. Country with the highest numbe rof iqa levels i.e> 300 is India, followed by burkina faso and Iraq respectively"
   ]
  },
  {
   "cell_type": "code",
   "execution_count": 9,
   "metadata": {},
   "outputs": [
    {
     "data": {
      "text/html": [
       "<div>\n",
       "<style scoped>\n",
       "    .dataframe tbody tr th:only-of-type {\n",
       "        vertical-align: middle;\n",
       "    }\n",
       "\n",
       "    .dataframe tbody tr th {\n",
       "        vertical-align: top;\n",
       "    }\n",
       "\n",
       "    .dataframe thead th {\n",
       "        text-align: right;\n",
       "    }\n",
       "</style>\n",
       "<table border=\"1\" class=\"dataframe\">\n",
       "  <thead>\n",
       "    <tr style=\"text-align: right;\">\n",
       "      <th></th>\n",
       "      <th>Date</th>\n",
       "      <th>Country</th>\n",
       "      <th>Status</th>\n",
       "    </tr>\n",
       "  </thead>\n",
       "  <tbody>\n",
       "    <tr>\n",
       "      <th>count</th>\n",
       "      <td>18121</td>\n",
       "      <td>18121</td>\n",
       "      <td>18121</td>\n",
       "    </tr>\n",
       "    <tr>\n",
       "      <th>unique</th>\n",
       "      <td>125</td>\n",
       "      <td>142</td>\n",
       "      <td>6</td>\n",
       "    </tr>\n",
       "    <tr>\n",
       "      <th>top</th>\n",
       "      <td>2022-07-22</td>\n",
       "      <td>Kenya</td>\n",
       "      <td>Good</td>\n",
       "    </tr>\n",
       "    <tr>\n",
       "      <th>freq</th>\n",
       "      <td>423</td>\n",
       "      <td>134</td>\n",
       "      <td>8542</td>\n",
       "    </tr>\n",
       "  </tbody>\n",
       "</table>\n",
       "</div>"
      ],
      "text/plain": [
       "              Date Country Status\n",
       "count        18121   18121  18121\n",
       "unique         125     142      6\n",
       "top     2022-07-22   Kenya   Good\n",
       "freq           423     134   8542"
      ]
     },
     "execution_count": 9,
     "metadata": {},
     "output_type": "execute_result"
    }
   ],
   "source": [
    "#check data statistics for strings\n",
    "air_quality.describe(include = 'O')"
   ]
  },
  {
   "cell_type": "markdown",
   "metadata": {},
   "source": [
    "**most common (top)**\n",
    "\n",
    "date 2022-07-22 with 423 records\n",
    "country kenya with 134 records\n",
    "status good appearing 8542 times"
   ]
  },
  {
   "cell_type": "code",
   "execution_count": 10,
   "metadata": {
    "scrolled": true
   },
   "outputs": [
    {
     "name": "stdout",
     "output_type": "stream",
     "text": [
      "300\n"
     ]
    },
    {
     "data": {
      "text/html": [
       "<div>\n",
       "<style scoped>\n",
       "    .dataframe tbody tr th:only-of-type {\n",
       "        vertical-align: middle;\n",
       "    }\n",
       "\n",
       "    .dataframe tbody tr th {\n",
       "        vertical-align: top;\n",
       "    }\n",
       "\n",
       "    .dataframe thead th {\n",
       "        text-align: right;\n",
       "    }\n",
       "</style>\n",
       "<table border=\"1\" class=\"dataframe\">\n",
       "  <thead>\n",
       "    <tr style=\"text-align: right;\">\n",
       "      <th></th>\n",
       "      <th>Date</th>\n",
       "      <th>Country</th>\n",
       "      <th>Status</th>\n",
       "      <th>AQI Value</th>\n",
       "    </tr>\n",
       "  </thead>\n",
       "  <tbody>\n",
       "    <tr>\n",
       "      <th>1</th>\n",
       "      <td>2022-07-21</td>\n",
       "      <td>Algeria</td>\n",
       "      <td>Moderate</td>\n",
       "      <td>65</td>\n",
       "    </tr>\n",
       "    <tr>\n",
       "      <th>143</th>\n",
       "      <td>2022-07-21</td>\n",
       "      <td>Algeria</td>\n",
       "      <td>Moderate</td>\n",
       "      <td>65</td>\n",
       "    </tr>\n",
       "    <tr>\n",
       "      <th>10</th>\n",
       "      <td>2022-07-21</td>\n",
       "      <td>Bangladesh</td>\n",
       "      <td>Unhealthy for Sensitive Groups</td>\n",
       "      <td>141</td>\n",
       "    </tr>\n",
       "    <tr>\n",
       "      <th>152</th>\n",
       "      <td>2022-07-21</td>\n",
       "      <td>Bangladesh</td>\n",
       "      <td>Unhealthy for Sensitive Groups</td>\n",
       "      <td>141</td>\n",
       "    </tr>\n",
       "    <tr>\n",
       "      <th>18</th>\n",
       "      <td>2022-07-21</td>\n",
       "      <td>Brunei</td>\n",
       "      <td>Good</td>\n",
       "      <td>15</td>\n",
       "    </tr>\n",
       "    <tr>\n",
       "      <th>...</th>\n",
       "      <td>...</td>\n",
       "      <td>...</td>\n",
       "      <td>...</td>\n",
       "      <td>...</td>\n",
       "    </tr>\n",
       "    <tr>\n",
       "      <th>13249</th>\n",
       "      <td>2024-06-06</td>\n",
       "      <td>Venezuela</td>\n",
       "      <td>Good</td>\n",
       "      <td>10</td>\n",
       "    </tr>\n",
       "    <tr>\n",
       "      <th>13117</th>\n",
       "      <td>2024-06-06</td>\n",
       "      <td>Vietnam</td>\n",
       "      <td>Moderate</td>\n",
       "      <td>63</td>\n",
       "    </tr>\n",
       "    <tr>\n",
       "      <th>13250</th>\n",
       "      <td>2024-06-06</td>\n",
       "      <td>Vietnam</td>\n",
       "      <td>Moderate</td>\n",
       "      <td>63</td>\n",
       "    </tr>\n",
       "    <tr>\n",
       "      <th>13118</th>\n",
       "      <td>2024-06-06</td>\n",
       "      <td>Zambia</td>\n",
       "      <td>Unhealthy for Sensitive Groups</td>\n",
       "      <td>140</td>\n",
       "    </tr>\n",
       "    <tr>\n",
       "      <th>13251</th>\n",
       "      <td>2024-06-06</td>\n",
       "      <td>Zambia</td>\n",
       "      <td>Unhealthy for Sensitive Groups</td>\n",
       "      <td>140</td>\n",
       "    </tr>\n",
       "  </tbody>\n",
       "</table>\n",
       "<p>588 rows × 4 columns</p>\n",
       "</div>"
      ],
      "text/plain": [
       "             Date     Country                          Status  AQI Value\n",
       "1      2022-07-21     Algeria                        Moderate         65\n",
       "143    2022-07-21     Algeria                        Moderate         65\n",
       "10     2022-07-21  Bangladesh  Unhealthy for Sensitive Groups        141\n",
       "152    2022-07-21  Bangladesh  Unhealthy for Sensitive Groups        141\n",
       "18     2022-07-21      Brunei                            Good         15\n",
       "...           ...         ...                             ...        ...\n",
       "13249  2024-06-06   Venezuela                            Good         10\n",
       "13117  2024-06-06     Vietnam                        Moderate         63\n",
       "13250  2024-06-06     Vietnam                        Moderate         63\n",
       "13118  2024-06-06      Zambia  Unhealthy for Sensitive Groups        140\n",
       "13251  2024-06-06      Zambia  Unhealthy for Sensitive Groups        140\n",
       "\n",
       "[588 rows x 4 columns]"
      ]
     },
     "execution_count": 10,
     "metadata": {},
     "output_type": "execute_result"
    }
   ],
   "source": [
    "#check for duplicates\n",
    "print(air_quality.duplicated().sum())\n",
    "#checking theduplicates\n",
    "air_quality[air_quality.duplicated(keep=False)].sort_values(by=['Date','Country','Status','AQI Value'])"
   ]
  },
  {
   "cell_type": "code",
   "execution_count": 11,
   "metadata": {},
   "outputs": [
    {
     "data": {
      "text/plain": [
       "17821"
      ]
     },
     "execution_count": 11,
     "metadata": {},
     "output_type": "execute_result"
    }
   ],
   "source": [
    "#drop duplicates\n",
    "air_quality.drop_duplicates(inplace=True)\n",
    "#confirm drop\n",
    "len(air_quality)"
   ]
  },
  {
   "cell_type": "code",
   "execution_count": 12,
   "metadata": {},
   "outputs": [
    {
     "name": "stdout",
     "output_type": "stream",
     "text": [
      "Check the number of rows and columns\n",
      "The dataset has 17821 rows\n",
      "The dataset has 4 columns\n",
      "\n",
      "Check data info\n",
      "<class 'pandas.core.frame.DataFrame'>\n",
      "Int64Index: 17821 entries, 0 to 18120\n",
      "Data columns (total 4 columns):\n",
      " #   Column     Non-Null Count  Dtype \n",
      "---  ------     --------------  ----- \n",
      " 0   Date       17821 non-null  object\n",
      " 1   Country    17821 non-null  object\n",
      " 2   Status     17821 non-null  object\n",
      " 3   AQI Value  17821 non-null  int64 \n",
      "dtypes: int64(1), object(3)\n",
      "memory usage: 696.1+ KB\n",
      "None\n",
      "\n",
      "\n",
      "Check missing values\n",
      "Date         0\n",
      "Country      0\n",
      "Status       0\n",
      "AQI Value    0\n",
      "dtype: int64\n",
      "\n",
      "\n",
      "Check data statistics (numeric)\n",
      "          AQI Value\n",
      "count  17821.000000\n",
      "mean      63.643005\n",
      "std       50.072823\n",
      "min        1.000000\n",
      "25%       29.000000\n",
      "50%       53.000000\n",
      "75%       83.000000\n",
      "max      963.000000\n",
      "\n",
      "\n",
      "Check data statistics (categorical)\n",
      "              Date Country Status\n",
      "count        17821   17821  17821\n",
      "unique         125     142      6\n",
      "top     2022-07-22  Taiwan   Good\n",
      "freq           384     134   8410\n",
      "\n",
      "\n",
      "Check for duplicates\n",
      "Duplicates: 0\n"
     ]
    }
   ],
   "source": [
    "#function to check understand the dataset:\n",
    "def data_understanding(df): \n",
    "    print('Check the number of rows and columns')\n",
    "    print(f'The dataset has {df.shape[0]} rows')\n",
    "    print(f'The dataset has {df.shape[1]} columns\\n')\n",
    "    \n",
    "    print('Check data info')\n",
    "    print(df.info())  # Includes column types and missing values\n",
    "    print('\\n')\n",
    "\n",
    "    print('Check missing values')\n",
    "    print(df.isna().sum())  # Shows missing values per column\n",
    "    print('\\n')\n",
    "\n",
    "    print('Check data statistics (numeric)')\n",
    "    print(df.describe())  # Summary statistics for numerical data\n",
    "    print('\\n')\n",
    "\n",
    "    print('Check data statistics (categorical)')\n",
    "    print(df.describe(include='O'))  # Summary for categorical data\n",
    "    print('\\n')\n",
    "\n",
    "    print('Check for duplicates')\n",
    "    print(f'Duplicates: {df.duplicated().sum()}')  # Number of duplicate rows\n",
    "\n",
    "# Call the function\n",
    "data_understanding(air_quality)\n"
   ]
  },
  {
   "cell_type": "code",
   "execution_count": 13,
   "metadata": {},
   "outputs": [
    {
     "name": "stdout",
     "output_type": "stream",
     "text": [
      "<class 'pandas.core.frame.DataFrame'>\n",
      "Int64Index: 17821 entries, 0 to 18120\n",
      "Data columns (total 4 columns):\n",
      " #   Column     Non-Null Count  Dtype         \n",
      "---  ------     --------------  -----         \n",
      " 0   Date       17821 non-null  datetime64[ns]\n",
      " 1   Country    17821 non-null  object        \n",
      " 2   Status     17821 non-null  object        \n",
      " 3   AQI Value  17821 non-null  int64         \n",
      "dtypes: datetime64[ns](1), int64(1), object(2)\n",
      "memory usage: 696.1+ KB\n"
     ]
    }
   ],
   "source": [
    "#convert date to datetime\n",
    "air_quality['Date']  = pd.to_datetime(air_quality['Date'],format = '%Y/%m/%d')\n",
    "#check if date been converted to datetime\n",
    "air_quality.info()"
   ]
  },
  {
   "cell_type": "markdown",
   "metadata": {},
   "source": [
    "### EDA"
   ]
  },
  {
   "cell_type": "markdown",
   "metadata": {},
   "source": [
    "### Air quality trends over time"
   ]
  },
  {
   "cell_type": "code",
   "execution_count": 32,
   "metadata": {},
   "outputs": [
    {
     "data": {
      "image/png": "[encoded data removed]",
      "text/plain": [
       "<Figure size 864x360 with 1 Axes>"
      ]
     },
     "metadata": {
      "needs_background": "light"
     },
     "output_type": "display_data"
    }
   ],
   "source": [
    "# Aggregate AQI values by month or year\n",
    "# monthly_aqi = air_quality.groupby(air_quality['Date'].dt.to_period('m'))['AQI Value'].mean()\n",
    "monthly_aqi = air_quality.groupby(air_quality['Date'].dt.to_period('m'))['AQI Value'].mean()\n",
    "# Plot AQI trends over time\n",
    "plt.figure(figsize=(12,5))\n",
    "monthly_aqi.plot(marker='o')\n",
    "plt.title('Air Quality Trends Over Time (AQI)', fontsize=14)\n",
    "plt.xlabel('Date (Month-Year)')\n",
    "plt.ylabel('Average AQI')\n",
    "plt.xticks(rotation=45)\n",
    "plt.grid()\n",
    "plt.show()\n"
   ]
  },
  {
   "cell_type": "markdown",
   "metadata": {},
   "source": [
    "Fluctuating AQI Levels:\n",
    "\n",
    "The AQI values fluctuate over time, showing multiple peaks and drops.\n",
    "There are significant increases around January 2023 and January 2025, indicating seasonal or external factors affecting air quality.\n",
    "Stable Periods:\n",
    "\n",
    "Between mid-2023 and mid-2024, the AQI remained relatively stable, staying between 60-65.\n",
    "This suggests a period of relatively consistent air quality.\n",
    "Sharp Rise in Late 2024 - Early 2025:\n",
    "\n",
    "Around late 2024, AQI starts increasing rapidly, reaching its peak in early 2025 (over 80).\n",
    "This suggests a period of worsening air quality, possibly due to environmental or human-driven factors (e.g., pollution, seasonal changes).\n",
    "Recent Decline in 2025:\n",
    "\n",
    "After the highest AQI peak, there's a slight drop, indicating some improvement in air quality."
   ]
  },
  {
   "cell_type": "markdown",
   "metadata": {},
   "source": [
    "### Countries with the worse air quality"
   ]
  },
  {
   "cell_type": "code",
   "execution_count": 66,
   "metadata": {},
   "outputs": [
    {
     "data": {
      "image/png": "[encoded data removed]",
      "text/plain": [
       "<Figure size 1440x576 with 1 Axes>"
      ]
     },
     "metadata": {
      "needs_background": "light"
     },
     "output_type": "display_data"
    }
   ],
   "source": [
    "plt.figure(figsize=(20,8))\n",
    "#get top 20\n",
    "country_quality = air_quality.groupby(['Country'])['AQI Value'].mean().sort_values(ascending=False).head(20)\n",
    "ax = country_quality.plot(kind='bar',color='r')\n",
    "# Add labels inside bars\n",
    "# Add labels inside bars (correct container)\n",
    "for container in ax.containers:\n",
    "    ax.bar_label(container, fmt='%.0f', label_type='center', fontsize=12, color='white', fontweight='bold')\n",
    "\n",
    "plt.xlabel(\"Country\")\n",
    "plt.ylabel(\"Average AQI Value\")\n",
    "plt.title(\"Average AQI Value by Country (Descending Order)\");"
   ]
  },
  {
   "cell_type": "markdown",
   "metadata": {},
   "source": [
    "India has on average the worst air quality followed by china,iraq and qatar respectively"
   ]
  },
  {
   "cell_type": "markdown",
   "metadata": {},
   "source": [
    "### category"
   ]
  },
  {
   "cell_type": "code",
   "execution_count": 67,
   "metadata": {},
   "outputs": [
    {
     "data": {
      "image/png": "[encoded data removed]",
      "text/plain": [
       "<Figure size 432x288 with 1 Axes>"
      ]
     },
     "metadata": {
      "needs_background": "light"
     },
     "output_type": "display_data"
    }
   ],
   "source": [
    "sns.countplot(data=air_quality,x='Status')\n",
    "plt.xticks(rotation=90);"
   ]
  },
  {
   "cell_type": "markdown",
   "metadata": {},
   "source": [
    "good air quality overall and harzadous few times"
   ]
  },
  {
   "cell_type": "code",
   "execution_count": null,
   "metadata": {},
   "outputs": [],
   "source": [
    "source_industry = pd.read_csv('../data/Climate Change - datasets/co2-emissions-by-sector.csv')"
   ]
  },
  {
   "cell_type": "code",
   "execution_count": 16,
   "metadata": {},
   "outputs": [
    {
     "ename": "NameError",
     "evalue": "name 'source_by_country' is not defined",
     "output_type": "error",
     "traceback": [
      "\u001b[1;31m---------------------------------------------------------------------------\u001b[0m",
      "\u001b[1;31mNameError\u001b[0m                                 Traceback (most recent call last)",
      "\u001b[1;32m<ipython-input-16-5608093166e4>\u001b[0m in \u001b[0;36m<module>\u001b[1;34m\u001b[0m\n\u001b[1;32m----> 1\u001b[1;33m \u001b[0msource_by_country\u001b[0m\u001b[1;33m[\u001b[0m\u001b[1;34m'Annual CO₂ emissions from other industry'\u001b[0m\u001b[1;33m]\u001b[0m\u001b[1;33m.\u001b[0m\u001b[0mvalue_counts\u001b[0m\u001b[1;33m(\u001b[0m\u001b[0mdropna\u001b[0m\u001b[1;33m=\u001b[0m\u001b[1;32mFalse\u001b[0m\u001b[1;33m,\u001b[0m\u001b[0mnormalize\u001b[0m\u001b[1;33m=\u001b[0m\u001b[1;32mTrue\u001b[0m\u001b[1;33m)\u001b[0m\u001b[1;33m\u001b[0m\u001b[1;33m\u001b[0m\u001b[0m\n\u001b[0m",
      "\u001b[1;31mNameError\u001b[0m: name 'source_by_country' is not defined"
     ]
    }
   ],
   "source": [
    "source_industry['Annual CO₂ emissions from other industry'].value_counts(dropna=False,normalize=True)"
   ]
  },
  {
   "cell_type": "code",
   "execution_count": null,
   "metadata": {},
   "outputs": [],
   "source": [
    "source_industry['Entity'].value_counts()"
   ]
  },
  {
   "cell_type": "code",
   "execution_count": null,
   "metadata": {},
   "outputs": [],
   "source": [
    "source_industry.query('Entity==\"Kenya\"')"
   ]
  },
  {
   "cell_type": "code",
   "execution_count": null,
   "metadata": {},
   "outputs": [],
   "source": [
    "pd.read_csv('../data/Climate Change - datasets/co2-emissions-by-sector.csv')"
   ]
  },
  {
   "cell_type": "code",
   "execution_count": null,
   "metadata": {},
   "outputs": [],
   "source": [
    "pd.read_csv('../data/Climate Change - datasets/co2-emissions-by-sector.csv')"
   ]
  },
  {
   "cell_type": "code",
   "execution_count": null,
   "metadata": {},
   "outputs": [],
   "source": [
    "Global_sea_level_rise['year'].max()"
   ]
  },
  {
   "cell_type": "code",
   "execution_count": null,
   "metadata": {},
   "outputs": [],
   "source": [
    "pd.read_csv('../data/Climate Change - datasets/green house gas-emissions-by-sector.csv')"
   ]
  },
  {
   "cell_type": "code",
   "execution_count": null,
   "metadata": {},
   "outputs": [],
   "source": [
    "per_capita_co2 = pd.read_csv('../data/Climate Change - datasets/per-capita-co2-vs-average.csv')\n",
    "per_capita_co2"
   ]
  },
  {
   "cell_type": "code",
   "execution_count": null,
   "metadata": {},
   "outputs": [],
   "source": [
    "total_greenhouse_gas_emissions = pd.read_csv('../data/Climate Change - datasets/total-greenhouse gas-emissions.csv')\n",
    "total_greenhouse_gas_emissions"
   ]
  },
  {
   "cell_type": "code",
   "execution_count": null,
   "metadata": {},
   "outputs": [],
   "source": [
    "total_greenhouse_gas_emissions.Code.value_counts(dropna=False)"
   ]
  },
  {
   "cell_type": "code",
   "execution_count": null,
   "metadata": {},
   "outputs": [],
   "source": [
    "per_capita_co2['Entity']"
   ]
  },
  {
   "cell_type": "code",
   "execution_count": null,
   "metadata": {},
   "outputs": [],
   "source": [
    "total_greenhouse_gas_emissions.query('Year==1949')"
   ]
  },
  {
   "cell_type": "code",
   "execution_count": null,
   "metadata": {},
   "outputs": [],
   "source": [
    "pd.merge(per_capita_co2, total_greenhouse_gas_emissions, on=['Code','Year'], how='inner').query('Year==1949')"
   ]
  },
  {
   "cell_type": "code",
   "execution_count": null,
   "metadata": {},
   "outputs": [],
   "source": []
  }
 ],
 "metadata": {
  "kernelspec": {
   "display_name": "Python 3",
   "language": "python",
   "name": "python3"
  },
  "language_info": {
   "codemirror_mode": {
    "name": "ipython",
    "version": 3
   },
   "file_extension": ".py",
   "mimetype": "text/x-python",
   "name": "python",
   "nbconvert_exporter": "python",
   "pygments_lexer": "ipython3",
   "version": "3.8.5"
  }
 },
 "nbformat": 4,
 "nbformat_minor": 2
}
