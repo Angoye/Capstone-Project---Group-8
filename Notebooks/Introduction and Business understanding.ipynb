{
 "cells": [
  {
   "cell_type": "markdown",
   "metadata": {},
   "source": [
    "###  Introduction"
   ]
  },
  {
   "cell_type": "markdown",
   "metadata": {},
   "source": [
    "Climate change is a serious global issue affecting our environment, economies, and daily lives.\n",
    " Rising greenhouse gas and CO2 emissions are causing higher temperatures, extreme weather, and environmental damage. - This project explores climate risks and emissions data to uncover trends, identify the most vulnerable regions, and suggest practical, data-driven solutions for a more sustainable future."
   ]
  },
  {
   "cell_type": "markdown",
   "metadata": {},
   "source": [
    "### Problem Statement and Business understanding"
   ]
  },
  {
   "cell_type": "markdown",
   "metadata": {},
   "source": [
    "The rise in greenhouse gases, especially CO₂, is driving climate change, leading to rising temperatures, shifting sea levels, and ecosystem disruptions. To tackle this, governments, businesses, and policymakers need reliable ways to predict its economic and environmental impacts. This study looks at past climate data to build forecasting tools, helping decision-makers plan for a more sustainable future."
   ]
  },
  {
   "cell_type": "markdown",
   "metadata": {},
   "source": [
    "### Data Understanding"
   ]
  },
  {
   "cell_type": "markdown",
   "metadata": {},
   "source": [
    " This study uses two main datasets:\n",
    "1. Climate Risk Index Dataset:\n",
    "   - Purpose: Assesses how vulnerable countries are to extreme weather events.\n",
    "   - Key Details:\n",
    "\t  - cri_rank: Ranks countries based on their climate risk (lower rank = higher risk).\n",
    "\t  - fatalities_total: Total deaths from severe weather events.\n",
    "\t  - losses_usdm_ppp_total: Economic losses in millions of USD, adjusted for purchasing power parity.\n",
    "      - losses_per_gdp_total: Percentage of economic losses relative to GDP.\n",
    "2. Climate Data Final Dataset:\n",
    "    - Purpose: Tracks CO₂ and greenhouse gas emissions across sectors.\n",
    "    - Key Details:\n",
    "       - Sector-wise CO₂ emissions (transport, industry, electricity, and heat).\n",
    "       - Annual CO₂ emissions per person -  provides the amount of carbon dioxide emitted per person,Higher numbers indicate greater individual contributions to CO₂ emissions..\n",
    "       - Average temperature trends over time- represents the average temperature recorded over a specific time period(years)\n",
    "       - mmfrom1993-2008average - tracks how much global sea levels have changed compared to the reference period (1993–2008).\n",
    "       - Forest area (% of land area) -  reflects the percentage of a country’s or region’s land area that is covered by forests.\n",
    "\n",
    "\n",
    "\n",
    "\n"
   ]
  },
  {
   "cell_type": "markdown",
   "metadata": {},
   "source": []
  }
 ],
 "metadata": {
  "language_info": {
   "name": "python"
  }
 },
 "nbformat": 4,
 "nbformat_minor": 2
}
