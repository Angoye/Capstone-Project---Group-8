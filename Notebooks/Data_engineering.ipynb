{
 "cells": [
  {
   "cell_type": "code",
   "execution_count": 1,
   "metadata": {},
   "outputs": [],
   "source": [
    "# Import necessary libraries\n",
    "import pandas as pd\n",
    "import numpy as np"
   ]
  },
  {
   "cell_type": "code",
   "execution_count": 3,
   "metadata": {},
   "outputs": [],
   "source": [
    "# Load datasets\n",
    "climate_data_path = \"../Data/Climate Change - datasets/climate_change_dataset.csv\"\n",
    "temperature_data_path = \"../Data/Climate Change - datasets/Average Surface Temperature.csv\"\n",
    "sea_level_data_path = \"../Data/Climate Change - datasets/Global_sea_level_rise.csv\"\n",
    "climate_risk_data_path = \"../Data/Climate Change - datasets/Climate Risk Index.csv\"\n",
    "co2_emissions_data_path = \"../Data/Climate Change - datasets/co2-emissions-by-sector.csv\"\n",
    "ghg_emissions_data_path = \"../Data/Climate Change - datasets/green house gas-emissions-by-sector.csv\"\n",
    "per_capita_co2_data_path = \"../Data/Climate Change - datasets/per-capita-co2-vs-average.csv\""
   ]
  },
  {
   "cell_type": "code",
   "execution_count": 4,
   "metadata": {},
   "outputs": [],
   "source": [
    "# Read datasets\n",
    "climate_df = pd.read_csv(climate_data_path)\n",
    "temperature_df = pd.read_csv(temperature_data_path)\n",
    "sea_level_df = pd.read_csv(sea_level_data_path)\n",
    "climate_risk_df = pd.read_csv(climate_risk_data_path)\n",
    "co2_emissions_df = pd.read_csv(co2_emissions_data_path)\n",
    "ghg_emissions_df = pd.read_csv(ghg_emissions_data_path)\n",
    "per_capita_co2_df = pd.read_csv(per_capita_co2_data_path)"
   ]
  },
  {
   "cell_type": "code",
   "execution_count": 5,
   "metadata": {},
   "outputs": [],
   "source": [
    "# Standardize column names for merging\n",
    "climate_df.rename(columns={\"Country\": \"Entity\"}, inplace=True)\n",
    "temperature_df.rename(columns={\"year\": \"Year\", \"Entity\": \"Entity\"}, inplace=True)\n",
    "sea_level_df.rename(columns={\"year\": \"Year\"}, inplace=True)\n",
    "climate_risk_df.rename(columns={\"country\": \"Entity\"}, inplace=True)\n",
    "co2_emissions_df.rename(columns={\"Year\": \"Year\", \"Entity\": \"Entity\"}, inplace=True)\n",
    "ghg_emissions_df.rename(columns={\"Year\": \"Year\", \"Entity\": \"Entity\"}, inplace=True)\n",
    "per_capita_co2_df.rename(columns={\"Year\": \"Year\", \"Entity\": \"Entity\"}, inplace=True)"
   ]
  },
  {
   "cell_type": "code",
   "execution_count": null,
   "metadata": {},
   "outputs": [
    {
     "name": "stdout",
     "output_type": "stream",
     "text": [
      "Dataset Shape: (10482, 36)\n",
      "Missing Values: 21399\n",
      "Column Names: ['Year', 'Entity', 'Avg Temperature (°C)', 'CO2 Emissions (Tons/Capita)', 'Sea Level Rise (mm)', 'Rainfall (mm)', 'Population', 'Renewable Energy (%)', 'Extreme Weather Events', 'Forest Area (%)', 'Average surface temperature', 'Sea Level Anomaly (mm)', 'cri_rank', 'fatalities_per_100k_total', 'losses_per_gdp__total', 'Carbon dioxide emissions from buildings', 'Carbon dioxide emissions from industry', 'Carbon dioxide emissions from land use change and forestry', 'Carbon dioxide emissions from other fuel combustion', 'Carbon dioxide emissions from transport', 'Carbon dioxide emissions from manufacturing and construction', 'Fugitive emissions of carbon dioxide from energy production', 'Carbon dioxide emissions from electricity and heat', 'Carbon dioxide emissions from bunker fuels', 'Greenhouse gas emissions from agriculture', 'Greenhouse gas emissions from land use change and forestry', 'Greenhouse gas emissions from waste', 'Greenhouse gas emissions from buildings', 'Greenhouse gas emissions from industry', 'Greenhouse gas emissions from manufacturing and construction', 'Greenhouse gas emissions from transport', 'Greenhouse gas emissions from electricity and heat', 'Fugitive emissions of greenhouse gases from energy production', 'Greenhouse gas emissions from other fuel combustion', 'Greenhouse gas emissions from bunker fuels', 'Annual CO₂ emissions (per capita)']\n"
     ]
    }
   ],
   "source": [
    "# Merge datasets\n",
    "merged_df = climate_df.merge(temperature_df[[\"Entity\", \"Year\", \"Average surface temperature\"]], on=[\"Entity\", \"Year\"], how=\"left\")\n",
    "merged_df = merged_df.merge(sea_level_df[[\"Year\", \"mmfrom1993-2008average\"]], on=\"Year\", how=\"left\")\n",
    "merged_df = merged_df.merge(climate_risk_df[[\"Entity\", \"cri_rank\", \"fatalities_per_100k_total\", \"losses_per_gdp__total\"]], on=[\"Entity\"], how=\"left\")\n",
    "merged_df = merged_df.merge(co2_emissions_df.drop(columns=[\"Code\"]), on=[\"Entity\", \"Year\"], how=\"left\")\n",
    "merged_df = merged_df.merge(ghg_emissions_df.drop(columns=[\"Code\"]), on=[\"Entity\", \"Year\"], how=\"left\")\n",
    "merged_df = merged_df.merge(per_capita_co2_df.drop(columns=[\"Code\"]), on=[\"Entity\", \"Year\"], how=\"left\")\n",
    "\n",
    "# Rename sea level column for clarity\n",
    "merged_df.rename(columns={\"mmfrom1993-2008average\": \"Sea Level Anomaly (mm)\"}, inplace=True)\n",
    "\n",
    "# Save the consolidated dataset\n",
    "merged_df.to_csv(\"Consolidated_Climate_Prediction_Dataset.csv\", index=False)\n",
    "\n",
    "# Display dataset overview\n",
    "print(\"Dataset Shape:\", merged_df.shape)\n",
    "print(\"Missing Values:\", merged_df.isnull().sum().sum())\n",
    "print(\"Column Names:\", merged_df.columns.tolist())"
   ]
  }
 ],
 "metadata": {
  "kernelspec": {
   "display_name": "learn-env",
   "language": "python",
   "name": "python3"
  },
  "language_info": {
   "codemirror_mode": {
    "name": "ipython",
    "version": 3
   },
   "file_extension": ".py",
   "mimetype": "text/x-python",
   "name": "python",
   "nbconvert_exporter": "python",
   "pygments_lexer": "ipython3",
   "version": "3.8.5"
  }
 },
 "nbformat": 4,
 "nbformat_minor": 2
}
