{
 "cells": [
  {
   "cell_type": "code",
   "execution_count": 2,
   "metadata": {},
   "outputs": [],
   "source": [
    "# Required Libraries\n",
    "\n",
    "import pandas as pd\n",
    "import numpy as np\n",
    "import seaborn as sns\n",
    "import matplotlib.pyplot as plt"
   ]
  },
  {
   "cell_type": "code",
   "execution_count": 1,
   "metadata": {},
   "outputs": [],
   "source": [
    "class DataPreparation():\n",
    "    \"\"\"\n",
    "    This class takes a dataframe and returns some basic information.\n",
    "    Consider making this ONE METHOD that returns everything.\n",
    "    \"\"\"\n",
    "    def __init__(self, data):\n",
    "        self.data = data\n",
    "\n",
    "    def read_head(self):\n",
    "        \"\"\"Returns the first 5 rows\"\"\"\n",
    "        return self.data.head()\n",
    "\n",
    "    def read_columns(self):\n",
    "        \"\"\"Returns the columns of the DataFrame\"\"\"\n",
    "        return self.data.columns\n",
    "\n",
    "    def read_info(self):\n",
    "        \"\"\"Returns the features, datatypes and non-null count\"\"\"\n",
    "        return self.data.info()\n",
    "\n",
    "    def read_describe(self):\n",
    "        \"\"\"Returns the statistical summary of the dataset\"\"\"\n",
    "        return self.data.describe()\n",
    "\n",
    "    def read_shape(self):\n",
    "        \"\"\"Returns the number of rows and columns\"\"\"\n",
    "        return self.data.shape\n",
    "\n",
    "    def read_corr(self):\n",
    "        \"\"\"Returns a correlation dataframe\"\"\"\n",
    "        return self.data.corr()\n",
    "\n",
    "    def read_corr_wrt_target(self, target='churn'):\n",
    "        \"\"\"Returns a Series containing the correlation of features with respect to target\"\"\"\n",
    "        return self.data.corr()[target].sort_values(ascending=False)\n",
    "\n",
    "    def read_multicollinearity(self, target='churn'):\n",
    "        \"\"\"Returns a correlation dataframe without the target\"\"\"\n",
    "        return self.data.corr().iloc[0:-1, 0:-1]\n",
    "\n",
    "    def read_na(self):\n",
    "        \"\"\"Returns the sum of all null values per feature\"\"\"\n",
    "        return self.data.isna().sum()\n",
    "\n",
    "    def read_duplicated(self):\n",
    "        \"\"\"Returns the sum of all duplicated records\"\"\"\n",
    "        return self.data.duplicated().sum()"
   ]
  }
 ],
 "metadata": {
  "kernelspec": {
   "display_name": "learn-env",
   "language": "python",
   "name": "python3"
  },
  "language_info": {
   "codemirror_mode": {
    "name": "ipython",
    "version": 3
   },
   "file_extension": ".py",
   "mimetype": "text/x-python",
   "name": "python",
   "nbconvert_exporter": "python",
   "pygments_lexer": "ipython3",
   "version": "3.8.5"
  }
 },
 "nbformat": 4,
 "nbformat_minor": 2
}
